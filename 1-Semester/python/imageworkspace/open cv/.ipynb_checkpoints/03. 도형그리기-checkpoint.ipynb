{
 "cells": [
  {
   "cell_type": "markdown",
   "id": "140c2459",
   "metadata": {},
   "source": [
    "# 3. 도형 그리기 \n",
    ">## 빈 스케치북 만들기"
   ]
  },
  {
   "cell_type": "code",
   "execution_count": 7,
   "id": "ab75b449",
   "metadata": {},
   "outputs": [],
   "source": [
    "import cv2\n",
    "import numpy as np\n",
    "# 세로 480 x 가로 640 , 3 채널 [RGB] 에 해당하는 스케치북 만들기\n",
    "img = np.zeros((480, 640,3), dtype = np.uint8)\n",
    "img[:] = (56,0,78) #==>(B,G,R) 전체 공간을 흰색으로 채우기"
   ]
  },
  {
   "cell_type": "code",
   "execution_count": 8,
   "id": "a190c128",
   "metadata": {},
   "outputs": [],
   "source": [
    "cv2.imshow('img',img)\n",
    "cv2.waitKey(0)\n",
    "cv2.destroyAllWindows()"
   ]
  },
  {
   "cell_type": "markdown",
   "id": "3c5ed62c",
   "metadata": {},
   "source": [
    "# 일부 영역 색칠"
   ]
  },
  {
   "cell_type": "code",
   "execution_count": 9,
   "id": "6e9ada18",
   "metadata": {},
   "outputs": [],
   "source": [
    "import cv2\n",
    "import numpy as np\n",
    "# 세로 480 x 가로 640 , 3 채널 [RGB] 에 해당하는 스케치북 만들기\n",
    "img = np.zeros((480, 640,3), dtype = np.uint8)\n",
    "img[100:200, 200:300] = (56,0,78) #==>(B,G,R) 전체 공간을 흰색으로 채우기\n",
    "#세로 기준 100에서 200// 가로 기준 200에서 300끼지\n",
    "cv2.imshow('img',img)\n",
    "cv2.waitKey(0)\n",
    "cv2.destroyAllWindows()"
   ]
  },
  {
   "cell_type": "markdown",
   "id": "64591e6d",
   "metadata": {},
   "source": [
    "# 직선\n",
    "직선의 종류\n",
    "\n",
    "1. cv2.LINE_4 : 상하좌우 4방향으로 연결된 선\n",
    "2. cv2.LINE_8 : 대각선을 포함한 8 방향으로 연결된 선(기본값)\n",
    "1. cv2.LINE_AA : 부드러운 선"
   ]
  },
  {
   "cell_type": "code",
   "execution_count": 15,
   "id": "8884241d",
   "metadata": {},
   "outputs": [],
   "source": [
    "import cv2\n",
    "import numpy as np\n",
    "\n",
    "img = np.zeros((480,640,3),dtype = np.uint8)\n",
    "\n",
    "COLOR = (0,255,255) ##BGR  YELLO\n",
    "THICKNESS = 3 #두께\n",
    "\n",
    "cv2.line(img, (50,100), (400,50),COLOR, THICKNESS, cv2.LINE_8)\n",
    "#             시작점     끝점     색깔    선두께      선 종류\n",
    "cv2.line(img, (50,200), (400,150),COLOR, THICKNESS, cv2.LINE_4)\n",
    "cv2.line(img, (50,300), (400, 250),COLOR, THICKNESS, cv2.LINE_AA)\n",
    "\n",
    "cv2.imshow('img',img)\n",
    "cv2.waitKey(0)\n",
    "cv2.destroyAllWindows()"
   ]
  },
  {
   "cell_type": "markdown",
   "id": "f98b2f60",
   "metadata": {},
   "source": [
    "# 원"
   ]
  },
  {
   "cell_type": "code",
   "execution_count": 19,
   "id": "5a9a05a8",
   "metadata": {},
   "outputs": [],
   "source": [
    "import cv2\n",
    "import numpy as np\n",
    "\n",
    "img = np.zeros((480,640,3),dtype = np.uint8)\n",
    "\n",
    "COLOR = (255,255, 0) ##BGR\n",
    "RADIUS = 50 # 반지름\n",
    "\n",
    "THICKNESS = 3 #두께\n",
    "\n",
    "cv2.circle(img, (400,250),RADIUS,COLOR, THICKNESS, cv2.LINE_AA)\n",
    "\n",
    "cv2.circle(img, (100,250),RADIUS,COLOR, cv2.FILLED, cv2.LINE_AA)\n",
    "#         그릴곳  원중심  반지름  색깔   선두께      선 종류\n",
    "\n",
    "cv2.imshow('img',img)\n",
    "cv2.waitKey(0)\n",
    "cv2.destroyAllWindows()"
   ]
  },
  {
   "cell_type": "markdown",
   "id": "0c2b16d5",
   "metadata": {},
   "source": [
    "# 사각형"
   ]
  },
  {
   "cell_type": "code",
   "execution_count": 29,
   "id": "d237b306",
   "metadata": {},
   "outputs": [],
   "source": [
    "import cv2\n",
    "import numpy as np\n",
    "\n",
    "img = np.zeros((480,640,3),dtype = np.uint8)\n",
    "\n",
    "COLOR = (255,255, 0) ##BGR\n",
    "THICKNESS = 3 #두께\n",
    "\n",
    "cv2.rectangle(img, (100,100),(200,200),COLOR, THICKNESS, cv2.LINE_AA)\n",
    "#         그릴곳 /왼쪽 위 / 오른쪽 밑/   색깔   선두께      선 종류\n",
    "\n",
    "cv2.imshow('img',img)\n",
    "cv2.waitKey(0)\n",
    "cv2.destroyAllWindows()"
   ]
  },
  {
   "cell_type": "markdown",
   "id": "1f7a1e91",
   "metadata": {},
   "source": [
    "# 다각형"
   ]
  },
  {
   "cell_type": "code",
   "execution_count": 38,
   "id": "71ef1a5b",
   "metadata": {},
   "outputs": [],
   "source": [
    "import cv2\n",
    "import numpy as np\n",
    "\n",
    "img = np.zeros((480,640,3),dtype = np.uint8)\n",
    "\n",
    "COLOR = (0,0, 250) ##BGR\n",
    "THICKNESS = 3 #두께\n",
    "\n",
    "pts1 = np.array(([100, 100],[200,100],[100,200]))\n",
    "pts2 = np.array(([200, 300],[200,160],[10,210]))\n",
    "cv2.polylines(img, [pts1], True, COLOR, THICKNESS, cv2.LINE_AA)\n",
    "#  그릴곳 /좌표 위치/시작점 끝점연결여부/색깔 /선두께 /선 종류\n",
    "cv2.fillPoly(img, [pts2], COLOR, cv2.LINE_AA)\n",
    "cv2.imshow('img',img)\n",
    "cv2.waitKey(0)\n",
    "cv2.destroyAllWindows()"
   ]
  },
  {
   "cell_type": "code",
   "execution_count": null,
   "id": "91ac38b1",
   "metadata": {},
   "outputs": [],
   "source": []
  }
 ],
 "metadata": {
  "kernelspec": {
   "display_name": "Python 3 (ipykernel)",
   "language": "python",
   "name": "python3"
  },
  "language_info": {
   "codemirror_mode": {
    "name": "ipython",
    "version": 3
   },
   "file_extension": ".py",
   "mimetype": "text/x-python",
   "name": "python",
   "nbconvert_exporter": "python",
   "pygments_lexer": "ipython3",
   "version": "3.9.15"
  }
 },
 "nbformat": 4,
 "nbformat_minor": 5
}
