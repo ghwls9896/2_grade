{
 "cells": [
  {
   "cell_type": "markdown",
   "id": "39bab081",
   "metadata": {},
   "source": [
    "# 2. 동영상 출력"
   ]
  },
  {
   "cell_type": "markdown",
   "id": "ff8e5755",
   "metadata": {},
   "source": [
    "### 동영상 파일 출력"
   ]
  },
  {
   "cell_type": "code",
   "execution_count": 4,
   "id": "7c698085",
   "metadata": {},
   "outputs": [
    {
     "name": "stdout",
     "output_type": "stream",
     "text": [
      "사용자 입력에 의해 종료됩니다\n"
     ]
    }
   ],
   "source": [
    "import cv2\n",
    "cap = cv2.VideoCapture('video.mp4')\n",
    "\n",
    "while cap.isOpened():   #동영상 파일이 올바로 열렸는지\n",
    "    ret, frame = cap.read()    #ret : 성공여부 frame 받아온 이미지\n",
    "    if not ret:\n",
    "        print(\"더 이상 가져올 프레임이 없어요\")\n",
    "        break\n",
    "        \n",
    "    cv2.imshow('video', frame)\n",
    "    if cv2.waitKey(25) == ord('q'):\n",
    "        print(\"사용자 입력에 의해 종료됩니다\")\n",
    "        break\n",
    "        \n",
    "cap.release()   #자원 해제\n",
    "cv2.destroyAllWindows()  #모든창 닫기"
   ]
  },
  {
   "cell_type": "markdown",
   "id": "dfec7b0a",
   "metadata": {},
   "source": [
    "## 카메라 출력"
   ]
  },
  {
   "cell_type": "code",
   "execution_count": null,
   "id": "3b6ad5a7",
   "metadata": {},
   "outputs": [],
   "source": [
    "import cv2\n",
    "cap = cv2.VideoCapture(0)  ## 0번째 카메라 장치\n",
    "\n",
    "if not cap.isOpened():\n",
    "    exit()  ## 카메라가 잘 열리지 않을 경우 프로그램 종료\n",
    "    \n",
    "while True:\n",
    "    ret, frame = cap.read()\n",
    "    if not ret:\n",
    "        break\n",
    "        \n",
    "    cv2.imshow('camara', frame)\n",
    "    if cv2.waitKey(25) == ord('q'):\n",
    "        break\n",
    "        \n",
    "cap.release()   #자원 해제\n",
    "cv2.destroyAllWindows()  #모든창 닫기"
   ]
  },
  {
   "cell_type": "code",
   "execution_count": null,
   "id": "9375fc05",
   "metadata": {},
   "outputs": [],
   "source": []
  }
 ],
 "metadata": {
  "kernelspec": {
   "display_name": "Python 3 (ipykernel)",
   "language": "python",
   "name": "python3"
  },
  "language_info": {
   "codemirror_mode": {
    "name": "ipython",
    "version": 3
   },
   "file_extension": ".py",
   "mimetype": "text/x-python",
   "name": "python",
   "nbconvert_exporter": "python",
   "pygments_lexer": "ipython3",
   "version": "3.9.15"
  }
 },
 "nbformat": 4,
 "nbformat_minor": 5
}
