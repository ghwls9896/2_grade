{
 "cells": [
  {
   "cell_type": "markdown",
   "id": "1e49577d",
   "metadata": {},
   "source": [
    "## Series 클래스"
   ]
  },
  {
   "cell_type": "code",
   "execution_count": 90,
   "id": "e8500d50",
   "metadata": {},
   "outputs": [],
   "source": [
    "import pandas as pd"
   ]
  },
  {
   "cell_type": "code",
   "execution_count": 91,
   "id": "d23a4737",
   "metadata": {},
   "outputs": [],
   "source": [
    "data = [1,2,3,4]\n",
    "index = ['월', '화', '수', '목']"
   ]
  },
  {
   "cell_type": "code",
   "execution_count": 92,
   "id": "6a96f7c6",
   "metadata": {},
   "outputs": [],
   "source": [
    "s = pd.Series(data, index)"
   ]
  },
  {
   "cell_type": "code",
   "execution_count": 93,
   "id": "ad971f8f",
   "metadata": {},
   "outputs": [
    {
     "data": {
      "text/plain": [
       "월    1\n",
       "화    2\n",
       "수    3\n",
       "목    4\n",
       "dtype: int64"
      ]
     },
     "execution_count": 93,
     "metadata": {},
     "output_type": "execute_result"
    }
   ],
   "source": [
    "s"
   ]
  },
  {
   "cell_type": "markdown",
   "id": "e86dbc77",
   "metadata": {},
   "source": [
    "### Series  =>> index , values"
   ]
  },
  {
   "cell_type": "code",
   "execution_count": 94,
   "id": "99c752d0",
   "metadata": {},
   "outputs": [
    {
     "data": {
      "text/plain": [
       "Index(['월', '화', '수', '목'], dtype='object')"
      ]
     },
     "execution_count": 94,
     "metadata": {},
     "output_type": "execute_result"
    }
   ],
   "source": [
    "s.index"
   ]
  },
  {
   "cell_type": "code",
   "execution_count": 95,
   "id": "d6b2dc24",
   "metadata": {},
   "outputs": [
    {
     "data": {
      "text/plain": [
       "array([1, 2, 3, 4], dtype=int64)"
      ]
     },
     "execution_count": 95,
     "metadata": {},
     "output_type": "execute_result"
    }
   ],
   "source": [
    "s.values"
   ]
  },
  {
   "cell_type": "code",
   "execution_count": 96,
   "id": "0926ff84",
   "metadata": {},
   "outputs": [
    {
     "data": {
      "text/plain": [
       "<PandasArray>\n",
       "[1, 2, 3, 4]\n",
       "Length: 4, dtype: int64"
      ]
     },
     "execution_count": 96,
     "metadata": {},
     "output_type": "execute_result"
    }
   ],
   "source": [
    "s.array"
   ]
  },
  {
   "cell_type": "markdown",
   "id": "7c57e3a7",
   "metadata": {},
   "source": [
    "### 연습문제"
   ]
  },
  {
   "cell_type": "code",
   "execution_count": 97,
   "id": "da6a230d",
   "metadata": {},
   "outputs": [],
   "source": [
    "data = [500, 800, 200]\n",
    "index = ['메로나', '누가바', '빠삐코']"
   ]
  },
  {
   "cell_type": "code",
   "execution_count": 98,
   "id": "a507cacd",
   "metadata": {},
   "outputs": [],
   "source": [
    "s = pd.Series(data, index)"
   ]
  },
  {
   "cell_type": "code",
   "execution_count": 99,
   "id": "3b67d76c",
   "metadata": {},
   "outputs": [
    {
     "data": {
      "text/plain": [
       "메로나    500\n",
       "누가바    800\n",
       "빠삐코    200\n",
       "dtype: int64"
      ]
     },
     "execution_count": 99,
     "metadata": {},
     "output_type": "execute_result"
    }
   ],
   "source": [
    "s"
   ]
  },
  {
   "cell_type": "code",
   "execution_count": 100,
   "id": "412e5362",
   "metadata": {},
   "outputs": [
    {
     "data": {
      "text/plain": [
       "Index(['메로나', '누가바', '빠삐코'], dtype='object')"
      ]
     },
     "execution_count": 100,
     "metadata": {},
     "output_type": "execute_result"
    }
   ],
   "source": [
    "s.index"
   ]
  },
  {
   "cell_type": "code",
   "execution_count": 101,
   "id": "5962efee",
   "metadata": {},
   "outputs": [
    {
     "data": {
      "text/plain": [
       "array([500, 800, 200], dtype=int64)"
      ]
     },
     "execution_count": 101,
     "metadata": {},
     "output_type": "execute_result"
    }
   ],
   "source": [
    "s.values"
   ]
  },
  {
   "cell_type": "markdown",
   "id": "62fb5d81",
   "metadata": {},
   "source": [
    "### Series 인덱싱 / iloc 속성(변수)를 사용하여 인덱싱"
   ]
  },
  {
   "cell_type": "code",
   "execution_count": 102,
   "id": "3b948ed9",
   "metadata": {},
   "outputs": [
    {
     "data": {
      "text/plain": [
       "메로나    500\n",
       "누가바    800\n",
       "빠삐코    200\n",
       "dtype: int64"
      ]
     },
     "execution_count": 102,
     "metadata": {},
     "output_type": "execute_result"
    }
   ],
   "source": [
    "s"
   ]
  },
  {
   "cell_type": "code",
   "execution_count": 103,
   "id": "bd14c726",
   "metadata": {},
   "outputs": [
    {
     "name": "stdout",
     "output_type": "stream",
     "text": [
      "500\n",
      "800\n",
      "200\n",
      "******************\n",
      "500\n",
      "800\n",
      "200\n"
     ]
    }
   ],
   "source": [
    "print(s.iloc[0])\n",
    "print(s.iloc[1])   #iloc  =>>>>>>>>> int location (정수의 위치(인덱스 번호라는 뜻))\n",
    "print(s.iloc[2])\n",
    "print('******************')\n",
    "print(s.loc['메로나'])\n",
    "print(s.loc['누가바'])\n",
    "print(s.loc['빠삐코'])"
   ]
  },
  {
   "cell_type": "markdown",
   "id": "6208ea63",
   "metadata": {},
   "source": [
    "### iloc, loc 인덱싱 차이"
   ]
  },
  {
   "cell_type": "code",
   "execution_count": 104,
   "id": "241818dc",
   "metadata": {},
   "outputs": [
    {
     "data": {
      "text/plain": [
       "메로나    500\n",
       "dtype: int64"
      ]
     },
     "execution_count": 104,
     "metadata": {},
     "output_type": "execute_result"
    }
   ],
   "source": [
    "s.iloc[0:1]"
   ]
  },
  {
   "cell_type": "code",
   "execution_count": 105,
   "id": "77896175",
   "metadata": {},
   "outputs": [
    {
     "data": {
      "text/plain": [
       "메로나    500\n",
       "누가바    800\n",
       "dtype: int64"
      ]
     },
     "execution_count": 105,
     "metadata": {},
     "output_type": "execute_result"
    }
   ],
   "source": [
    "s.loc['메로나':'누가바']   #인덱스는 끝에 있는 행을 포함함"
   ]
  },
  {
   "cell_type": "markdown",
   "id": "70afb9fc",
   "metadata": {},
   "source": [
    "### 연속하지 않는 여러 개의 값을 한번에 인덱싱 target"
   ]
  },
  {
   "cell_type": "code",
   "execution_count": 106,
   "id": "921e15a7",
   "metadata": {},
   "outputs": [
    {
     "data": {
      "text/plain": [
       "메로나    500\n",
       "빠삐코    200\n",
       "dtype: int64"
      ]
     },
     "execution_count": 106,
     "metadata": {},
     "output_type": "execute_result"
    }
   ],
   "source": [
    "target = [0,2]\n",
    "s.iloc[target]"
   ]
  },
  {
   "cell_type": "markdown",
   "id": "5ec40c1a",
   "metadata": {},
   "source": [
    "### 판다스 시리즈 값추가/ 삭제/ 수정"
   ]
  },
  {
   "cell_type": "code",
   "execution_count": 107,
   "id": "e40a2c14",
   "metadata": {},
   "outputs": [],
   "source": [
    "s.loc['보석바'] = 640"
   ]
  },
  {
   "cell_type": "code",
   "execution_count": 108,
   "id": "5929c141",
   "metadata": {},
   "outputs": [
    {
     "data": {
      "text/plain": [
       "메로나    500\n",
       "누가바    800\n",
       "빠삐코    200\n",
       "보석바    640\n",
       "dtype: int64"
      ]
     },
     "execution_count": 108,
     "metadata": {},
     "output_type": "execute_result"
    }
   ],
   "source": [
    "s"
   ]
  },
  {
   "cell_type": "code",
   "execution_count": 109,
   "id": "04e885bc",
   "metadata": {},
   "outputs": [
    {
     "name": "stdout",
     "output_type": "stream",
     "text": [
      "*************\n"
     ]
    }
   ],
   "source": [
    "print(\"*************\")"
   ]
  },
  {
   "cell_type": "code",
   "execution_count": 110,
   "id": "7303c42f",
   "metadata": {},
   "outputs": [],
   "source": [
    "a1 = s.drop(\"보석바\")"
   ]
  },
  {
   "cell_type": "code",
   "execution_count": 111,
   "id": "f5b74332",
   "metadata": {},
   "outputs": [
    {
     "data": {
      "text/plain": [
       "메로나    500\n",
       "누가바    800\n",
       "빠삐코    200\n",
       "dtype: int64"
      ]
     },
     "execution_count": 111,
     "metadata": {},
     "output_type": "execute_result"
    }
   ],
   "source": [
    "a1   ##삭제된 데이터"
   ]
  },
  {
   "cell_type": "code",
   "execution_count": 112,
   "id": "40ff2ee0",
   "metadata": {},
   "outputs": [
    {
     "data": {
      "text/plain": [
       "메로나    500\n",
       "누가바    800\n",
       "빠삐코    200\n",
       "보석바    640\n",
       "dtype: int64"
      ]
     },
     "execution_count": 112,
     "metadata": {},
     "output_type": "execute_result"
    }
   ],
   "source": [
    "s  ##원본파일"
   ]
  },
  {
   "cell_type": "code",
   "execution_count": 113,
   "id": "8763bf20",
   "metadata": {},
   "outputs": [
    {
     "name": "stdout",
     "output_type": "stream",
     "text": [
      "*************\n"
     ]
    }
   ],
   "source": [
    "print(\"*************\")"
   ]
  },
  {
   "cell_type": "code",
   "execution_count": 114,
   "id": "d7281af5",
   "metadata": {},
   "outputs": [],
   "source": [
    "s.iloc[0] = 100  #수정값"
   ]
  },
  {
   "cell_type": "code",
   "execution_count": 115,
   "id": "b324a850",
   "metadata": {},
   "outputs": [
    {
     "data": {
      "text/plain": [
       "메로나    100\n",
       "누가바    800\n",
       "보석바    640\n",
       "dtype: int64"
      ]
     },
     "execution_count": 115,
     "metadata": {},
     "output_type": "execute_result"
    }
   ],
   "source": [
    "s.drop('빠삐코')"
   ]
  },
  {
   "cell_type": "code",
   "execution_count": 116,
   "id": "87f1370d",
   "metadata": {},
   "outputs": [
    {
     "data": {
      "text/plain": [
       "메로나    100\n",
       "누가바    800\n",
       "빠삐코    200\n",
       "보석바    640\n",
       "dtype: int64"
      ]
     },
     "execution_count": 116,
     "metadata": {},
     "output_type": "execute_result"
    }
   ],
   "source": [
    "s"
   ]
  },
  {
   "cell_type": "code",
   "execution_count": 117,
   "id": "27a30a98",
   "metadata": {},
   "outputs": [],
   "source": [
    "s.drop('빠삐코', inplace = True)   #inplace True를 허용할시 원본파일에 적용된다"
   ]
  },
  {
   "cell_type": "code",
   "execution_count": 118,
   "id": "c93ffe6a",
   "metadata": {},
   "outputs": [
    {
     "data": {
      "text/plain": [
       "메로나    100\n",
       "누가바    800\n",
       "보석바    640\n",
       "dtype: int64"
      ]
     },
     "execution_count": 118,
     "metadata": {},
     "output_type": "execute_result"
    }
   ],
   "source": [
    "s"
   ]
  },
  {
   "cell_type": "markdown",
   "id": "50e860f2",
   "metadata": {},
   "source": [
    "## 브로드캐스팅 연산 시리즈 객체 전체 값에 적용"
   ]
  },
  {
   "cell_type": "code",
   "execution_count": 120,
   "id": "39771d7b",
   "metadata": {},
   "outputs": [],
   "source": [
    "s = pd.Series([100,200,300])"
   ]
  },
  {
   "cell_type": "code",
   "execution_count": 121,
   "id": "0c7c089a",
   "metadata": {},
   "outputs": [
    {
     "name": "stdout",
     "output_type": "stream",
     "text": [
      "0    110\n",
      "1    210\n",
      "2    310\n",
      "dtype: int64\n"
     ]
    }
   ],
   "source": [
    "print(s+10)"
   ]
  },
  {
   "cell_type": "code",
   "execution_count": 122,
   "id": "0da00503",
   "metadata": {},
   "outputs": [
    {
     "name": "stdout",
     "output_type": "stream",
     "text": [
      "0    11449\n",
      "1     6939\n",
      "2     7000\n",
      "3    13840\n",
      "dtype: int64\n"
     ]
    }
   ],
   "source": [
    "high = pd.Series([51500,61200,51789,77351])\n",
    "low = pd.Series([40051,54261,44789,63511])\n",
    "print(high-low)"
   ]
  },
  {
   "cell_type": "markdown",
   "id": "6c53a1ab",
   "metadata": {},
   "source": [
    "### 시리즈 비교 연산"
   ]
  },
  {
   "cell_type": "code",
   "execution_count": 124,
   "id": "289f436b",
   "metadata": {},
   "outputs": [
    {
     "name": "stdout",
     "output_type": "stream",
     "text": [
      "0    False\n",
      "1    False\n",
      "2    False\n",
      "3     True\n",
      "4     True\n",
      "dtype: bool\n"
     ]
    }
   ],
   "source": [
    "s = pd.Series(data = [100, 200, 300, 400, 500])\n",
    "cond = s > 300\n",
    "print(cond)"
   ]
  },
  {
   "cell_type": "markdown",
   "id": "fc2f4f46",
   "metadata": {},
   "source": [
    "### 시리지 필터링"
   ]
  },
  {
   "cell_type": "code",
   "execution_count": 125,
   "id": "8b386dfe",
   "metadata": {},
   "outputs": [
    {
     "data": {
      "text/plain": [
       "0    False\n",
       "1    False\n",
       "2    False\n",
       "3     True\n",
       "4     True\n",
       "dtype: bool"
      ]
     },
     "execution_count": 125,
     "metadata": {},
     "output_type": "execute_result"
    }
   ],
   "source": [
    "cond"
   ]
  },
  {
   "cell_type": "code",
   "execution_count": 131,
   "id": "fac46894",
   "metadata": {},
   "outputs": [
    {
     "data": {
      "text/plain": [
       "3    400\n",
       "4    500\n",
       "dtype: int64"
      ]
     },
     "execution_count": 131,
     "metadata": {},
     "output_type": "execute_result"
    }
   ],
   "source": [
    "s[cond]   #s 시리즈에 불형 타입을 대괄호에 넣어주면 True인 값들만 넣어주게된다"
   ]
  },
  {
   "cell_type": "markdown",
   "id": "1fef293e",
   "metadata": {},
   "source": [
    "### 시리즈 필터링 예"
   ]
  },
  {
   "cell_type": "code",
   "execution_count": 134,
   "id": "792ee19c",
   "metadata": {},
   "outputs": [
    {
     "name": "stdout",
     "output_type": "stream",
     "text": [
      "2    400\n",
      "3    500\n",
      "4    600\n",
      "dtype: int64\n"
     ]
    }
   ],
   "source": [
    "시가 = pd.Series([100,200,300,400,600])\n",
    "종가 = pd.Series([100,300,400,500,600])\n",
    "cond = (시가>=300)\n",
    "print(종가[cond])"
   ]
  },
  {
   "cell_type": "markdown",
   "id": "f70eaac8",
   "metadata": {},
   "source": [
    "### DataFrame 생성   2차원 표에서 컬럼 단위로 데이터 표현"
   ]
  },
  {
   "cell_type": "code",
   "execution_count": 139,
   "id": "605f402a",
   "metadata": {},
   "outputs": [],
   "source": [
    "data = {\n",
    "    \"종가\": [157000, 51300, 68800, 140000],\n",
    "    \"PER\": [39.88, 8.52, 10.03, 228.38],\n",
    "    \"PBR\": [4.38, 1.45, 0.87, 2.16]\n",
    "}\n",
    "index = ['네이버', '삼성전자', 'LG전자','카카오']"
   ]
  },
  {
   "cell_type": "code",
   "execution_count": 141,
   "id": "aecc7864",
   "metadata": {},
   "outputs": [],
   "source": [
    "df = pd.DataFrame(data, index)"
   ]
  },
  {
   "cell_type": "code",
   "execution_count": 142,
   "id": "d7737e5d",
   "metadata": {},
   "outputs": [
    {
     "data": {
      "text/html": [
       "<div>\n",
       "<style scoped>\n",
       "    .dataframe tbody tr th:only-of-type {\n",
       "        vertical-align: middle;\n",
       "    }\n",
       "\n",
       "    .dataframe tbody tr th {\n",
       "        vertical-align: top;\n",
       "    }\n",
       "\n",
       "    .dataframe thead th {\n",
       "        text-align: right;\n",
       "    }\n",
       "</style>\n",
       "<table border=\"1\" class=\"dataframe\">\n",
       "  <thead>\n",
       "    <tr style=\"text-align: right;\">\n",
       "      <th></th>\n",
       "      <th>종가</th>\n",
       "      <th>PER</th>\n",
       "      <th>PBR</th>\n",
       "    </tr>\n",
       "  </thead>\n",
       "  <tbody>\n",
       "    <tr>\n",
       "      <th>네이버</th>\n",
       "      <td>157000</td>\n",
       "      <td>39.88</td>\n",
       "      <td>4.38</td>\n",
       "    </tr>\n",
       "    <tr>\n",
       "      <th>삼성전자</th>\n",
       "      <td>51300</td>\n",
       "      <td>8.52</td>\n",
       "      <td>1.45</td>\n",
       "    </tr>\n",
       "    <tr>\n",
       "      <th>LG전자</th>\n",
       "      <td>68800</td>\n",
       "      <td>10.03</td>\n",
       "      <td>0.87</td>\n",
       "    </tr>\n",
       "    <tr>\n",
       "      <th>카카오</th>\n",
       "      <td>140000</td>\n",
       "      <td>228.38</td>\n",
       "      <td>2.16</td>\n",
       "    </tr>\n",
       "  </tbody>\n",
       "</table>\n",
       "</div>"
      ],
      "text/plain": [
       "          종가     PER   PBR\n",
       "네이버   157000   39.88  4.38\n",
       "삼성전자   51300    8.52  1.45\n",
       "LG전자   68800   10.03  0.87\n",
       "카카오   140000  228.38  2.16"
      ]
     },
     "execution_count": 142,
     "metadata": {},
     "output_type": "execute_result"
    }
   ],
   "source": [
    "df"
   ]
  },
  {
   "cell_type": "code",
   "execution_count": 143,
   "id": "45f4cacb",
   "metadata": {},
   "outputs": [],
   "source": [
    "data = {\n",
    "    \"시가\" : [980,200,300],\n",
    "    \"고가\" : [990,300,500],\n",
    "    \"저가\" : [920,180,300],\n",
    "    \"종가\" : [930,180,400]    \n",
    "}\n",
    "index = ['비트코인', '리플', '이더리움']\n",
    "df = pd.DataFrame (data , index)"
   ]
  },
  {
   "cell_type": "code",
   "execution_count": 148,
   "id": "843aea62",
   "metadata": {},
   "outputs": [
    {
     "data": {
      "text/html": [
       "<div>\n",
       "<style scoped>\n",
       "    .dataframe tbody tr th:only-of-type {\n",
       "        vertical-align: middle;\n",
       "    }\n",
       "\n",
       "    .dataframe tbody tr th {\n",
       "        vertical-align: top;\n",
       "    }\n",
       "\n",
       "    .dataframe thead th {\n",
       "        text-align: right;\n",
       "    }\n",
       "</style>\n",
       "<table border=\"1\" class=\"dataframe\">\n",
       "  <thead>\n",
       "    <tr style=\"text-align: right;\">\n",
       "      <th></th>\n",
       "      <th>시가</th>\n",
       "      <th>고가</th>\n",
       "      <th>저가</th>\n",
       "      <th>종가</th>\n",
       "    </tr>\n",
       "  </thead>\n",
       "  <tbody>\n",
       "    <tr>\n",
       "      <th>비트코인</th>\n",
       "      <td>980</td>\n",
       "      <td>990</td>\n",
       "      <td>920</td>\n",
       "      <td>930</td>\n",
       "    </tr>\n",
       "    <tr>\n",
       "      <th>리플</th>\n",
       "      <td>200</td>\n",
       "      <td>300</td>\n",
       "      <td>180</td>\n",
       "      <td>180</td>\n",
       "    </tr>\n",
       "    <tr>\n",
       "      <th>이더리움</th>\n",
       "      <td>300</td>\n",
       "      <td>500</td>\n",
       "      <td>300</td>\n",
       "      <td>400</td>\n",
       "    </tr>\n",
       "  </tbody>\n",
       "</table>\n",
       "</div>"
      ],
      "text/plain": [
       "       시가   고가   저가   종가\n",
       "비트코인  980  990  920  930\n",
       "리플    200  300  180  180\n",
       "이더리움  300  500  300  400"
      ]
     },
     "execution_count": 148,
     "metadata": {},
     "output_type": "execute_result"
    }
   ],
   "source": [
    "df"
   ]
  },
  {
   "cell_type": "markdown",
   "id": "928c28ef",
   "metadata": {},
   "source": [
    "### 데이터프레임 인덱싱과 슬라이싱"
   ]
  },
  {
   "cell_type": "code",
   "execution_count": 151,
   "id": "b23e2cc4",
   "metadata": {},
   "outputs": [],
   "source": [
    "data = [\n",
    "    [157000, 39.88, 4.38],\n",
    "    [39.88, 8.52, 10.03],\n",
    "    [4.38, 1.45, 2.16],\n",
    "    [5.38, 1.25, 3.16]\n",
    "]\n",
    "index = ['네이버', '삼성전자', 'LG전자','카카오']\n",
    "columns = ['종가', 'PER', 'PBR']\n",
    "df = pd.DataFrame(data=data, index= index, columns=columns)"
   ]
  },
  {
   "cell_type": "code",
   "execution_count": 152,
   "id": "4d78c8c9",
   "metadata": {},
   "outputs": [
    {
     "data": {
      "text/html": [
       "<div>\n",
       "<style scoped>\n",
       "    .dataframe tbody tr th:only-of-type {\n",
       "        vertical-align: middle;\n",
       "    }\n",
       "\n",
       "    .dataframe tbody tr th {\n",
       "        vertical-align: top;\n",
       "    }\n",
       "\n",
       "    .dataframe thead th {\n",
       "        text-align: right;\n",
       "    }\n",
       "</style>\n",
       "<table border=\"1\" class=\"dataframe\">\n",
       "  <thead>\n",
       "    <tr style=\"text-align: right;\">\n",
       "      <th></th>\n",
       "      <th>종가</th>\n",
       "      <th>PER</th>\n",
       "      <th>PBR</th>\n",
       "    </tr>\n",
       "  </thead>\n",
       "  <tbody>\n",
       "    <tr>\n",
       "      <th>네이버</th>\n",
       "      <td>157000.00</td>\n",
       "      <td>39.88</td>\n",
       "      <td>4.38</td>\n",
       "    </tr>\n",
       "    <tr>\n",
       "      <th>삼성전자</th>\n",
       "      <td>39.88</td>\n",
       "      <td>8.52</td>\n",
       "      <td>10.03</td>\n",
       "    </tr>\n",
       "    <tr>\n",
       "      <th>LG전자</th>\n",
       "      <td>4.38</td>\n",
       "      <td>1.45</td>\n",
       "      <td>2.16</td>\n",
       "    </tr>\n",
       "    <tr>\n",
       "      <th>카카오</th>\n",
       "      <td>5.38</td>\n",
       "      <td>1.25</td>\n",
       "      <td>3.16</td>\n",
       "    </tr>\n",
       "  </tbody>\n",
       "</table>\n",
       "</div>"
      ],
      "text/plain": [
       "             종가    PER    PBR\n",
       "네이버   157000.00  39.88   4.38\n",
       "삼성전자      39.88   8.52  10.03\n",
       "LG전자       4.38   1.45   2.16\n",
       "카카오        5.38   1.25   3.16"
      ]
     },
     "execution_count": 152,
     "metadata": {},
     "output_type": "execute_result"
    }
   ],
   "source": [
    "df"
   ]
  },
  {
   "cell_type": "code",
   "execution_count": 153,
   "id": "33bd1257",
   "metadata": {},
   "outputs": [
    {
     "data": {
      "text/plain": [
       "네이버     157000.00\n",
       "삼성전자        39.88\n",
       "LG전자         4.38\n",
       "카카오          5.38\n",
       "Name: 종가, dtype: float64"
      ]
     },
     "execution_count": 153,
     "metadata": {},
     "output_type": "execute_result"
    }
   ],
   "source": [
    "df['종가']"
   ]
  },
  {
   "cell_type": "code",
   "execution_count": 155,
   "id": "34fdf814",
   "metadata": {},
   "outputs": [
    {
     "data": {
      "text/plain": [
       "네이버     39.88\n",
       "삼성전자     8.52\n",
       "LG전자     1.45\n",
       "카카오      1.25\n",
       "Name: PER, dtype: float64"
      ]
     },
     "execution_count": 155,
     "metadata": {},
     "output_type": "execute_result"
    }
   ],
   "source": [
    "df['PER']"
   ]
  },
  {
   "cell_type": "code",
   "execution_count": 158,
   "id": "4f903c77",
   "metadata": {},
   "outputs": [
    {
     "data": {
      "text/plain": [
       "5.38"
      ]
     },
     "execution_count": 158,
     "metadata": {},
     "output_type": "execute_result"
    }
   ],
   "source": [
    "df['종가'].iloc[3]"
   ]
  },
  {
   "cell_type": "markdown",
   "id": "82d3dd11",
   "metadata": {},
   "source": [
    "### 멀티로우 선택"
   ]
  },
  {
   "cell_type": "markdown",
   "id": "222e0919",
   "metadata": {},
   "source": [
    "df.iloc[[0,1]]"
   ]
  },
  {
   "cell_type": "markdown",
   "id": "e6ae7334",
   "metadata": {},
   "source": [
    "### 로우 슬라이싱"
   ]
  },
  {
   "cell_type": "code",
   "execution_count": 187,
   "id": "354bf1d6",
   "metadata": {},
   "outputs": [
    {
     "data": {
      "text/html": [
       "<div>\n",
       "<style scoped>\n",
       "    .dataframe tbody tr th:only-of-type {\n",
       "        vertical-align: middle;\n",
       "    }\n",
       "\n",
       "    .dataframe tbody tr th {\n",
       "        vertical-align: top;\n",
       "    }\n",
       "\n",
       "    .dataframe thead th {\n",
       "        text-align: right;\n",
       "    }\n",
       "</style>\n",
       "<table border=\"1\" class=\"dataframe\">\n",
       "  <thead>\n",
       "    <tr style=\"text-align: right;\">\n",
       "      <th></th>\n",
       "      <th>종가</th>\n",
       "      <th>PER</th>\n",
       "      <th>PBR</th>\n",
       "    </tr>\n",
       "  </thead>\n",
       "  <tbody>\n",
       "    <tr>\n",
       "      <th>네이버</th>\n",
       "      <td>157000.00</td>\n",
       "      <td>39.88</td>\n",
       "      <td>4.38</td>\n",
       "    </tr>\n",
       "    <tr>\n",
       "      <th>삼성전자</th>\n",
       "      <td>39.88</td>\n",
       "      <td>8.52</td>\n",
       "      <td>10.03</td>\n",
       "    </tr>\n",
       "    <tr>\n",
       "      <th>LG전자</th>\n",
       "      <td>4.38</td>\n",
       "      <td>1.45</td>\n",
       "      <td>2.16</td>\n",
       "    </tr>\n",
       "  </tbody>\n",
       "</table>\n",
       "</div>"
      ],
      "text/plain": [
       "             종가    PER    PBR\n",
       "네이버   157000.00  39.88   4.38\n",
       "삼성전자      39.88   8.52  10.03\n",
       "LG전자       4.38   1.45   2.16"
      ]
     },
     "execution_count": 187,
     "metadata": {},
     "output_type": "execute_result"
    }
   ],
   "source": [
    "df.iloc[0:3]"
   ]
  },
  {
   "cell_type": "markdown",
   "id": "599fa64f",
   "metadata": {},
   "source": [
    "### 판다스 데이터프레임 값과 영역 접근"
   ]
  },
  {
   "cell_type": "code",
   "execution_count": 188,
   "id": "edf9486e",
   "metadata": {},
   "outputs": [
    {
     "data": {
      "text/html": [
       "<div>\n",
       "<style scoped>\n",
       "    .dataframe tbody tr th:only-of-type {\n",
       "        vertical-align: middle;\n",
       "    }\n",
       "\n",
       "    .dataframe tbody tr th {\n",
       "        vertical-align: top;\n",
       "    }\n",
       "\n",
       "    .dataframe thead th {\n",
       "        text-align: right;\n",
       "    }\n",
       "</style>\n",
       "<table border=\"1\" class=\"dataframe\">\n",
       "  <thead>\n",
       "    <tr style=\"text-align: right;\">\n",
       "      <th></th>\n",
       "      <th>종가</th>\n",
       "      <th>PER</th>\n",
       "      <th>PBR</th>\n",
       "    </tr>\n",
       "  </thead>\n",
       "  <tbody>\n",
       "    <tr>\n",
       "      <th>네이버</th>\n",
       "      <td>157000.00</td>\n",
       "      <td>39.88</td>\n",
       "      <td>4.38</td>\n",
       "    </tr>\n",
       "    <tr>\n",
       "      <th>삼성전자</th>\n",
       "      <td>39.88</td>\n",
       "      <td>8.52</td>\n",
       "      <td>10.03</td>\n",
       "    </tr>\n",
       "    <tr>\n",
       "      <th>LG전자</th>\n",
       "      <td>4.38</td>\n",
       "      <td>1.45</td>\n",
       "      <td>2.16</td>\n",
       "    </tr>\n",
       "    <tr>\n",
       "      <th>카카오</th>\n",
       "      <td>5.38</td>\n",
       "      <td>1.25</td>\n",
       "      <td>3.16</td>\n",
       "    </tr>\n",
       "  </tbody>\n",
       "</table>\n",
       "</div>"
      ],
      "text/plain": [
       "             종가    PER    PBR\n",
       "네이버   157000.00  39.88   4.38\n",
       "삼성전자      39.88   8.52  10.03\n",
       "LG전자       4.38   1.45   2.16\n",
       "카카오        5.38   1.25   3.16"
      ]
     },
     "execution_count": 188,
     "metadata": {},
     "output_type": "execute_result"
    }
   ],
   "source": [
    "df"
   ]
  },
  {
   "cell_type": "code",
   "execution_count": 189,
   "id": "7e643ebb",
   "metadata": {},
   "outputs": [
    {
     "data": {
      "text/plain": [
       "157000.0"
      ]
     },
     "execution_count": 189,
     "metadata": {},
     "output_type": "execute_result"
    }
   ],
   "source": [
    "df.loc['네이버', '종가']"
   ]
  },
  {
   "cell_type": "code",
   "execution_count": 190,
   "id": "d1a08dc5",
   "metadata": {},
   "outputs": [
    {
     "data": {
      "text/plain": [
       "39.88"
      ]
     },
     "execution_count": 190,
     "metadata": {},
     "output_type": "execute_result"
    }
   ],
   "source": [
    "df.iloc[0 ,1]"
   ]
  },
  {
   "cell_type": "code",
   "execution_count": 191,
   "id": "07583d30",
   "metadata": {},
   "outputs": [
    {
     "data": {
      "text/html": [
       "<div>\n",
       "<style scoped>\n",
       "    .dataframe tbody tr th:only-of-type {\n",
       "        vertical-align: middle;\n",
       "    }\n",
       "\n",
       "    .dataframe tbody tr th {\n",
       "        vertical-align: top;\n",
       "    }\n",
       "\n",
       "    .dataframe thead th {\n",
       "        text-align: right;\n",
       "    }\n",
       "</style>\n",
       "<table border=\"1\" class=\"dataframe\">\n",
       "  <thead>\n",
       "    <tr style=\"text-align: right;\">\n",
       "      <th></th>\n",
       "      <th>종가</th>\n",
       "      <th>PER</th>\n",
       "    </tr>\n",
       "  </thead>\n",
       "  <tbody>\n",
       "    <tr>\n",
       "      <th>네이버</th>\n",
       "      <td>157000.00</td>\n",
       "      <td>39.88</td>\n",
       "    </tr>\n",
       "    <tr>\n",
       "      <th>삼성전자</th>\n",
       "      <td>39.88</td>\n",
       "      <td>8.52</td>\n",
       "    </tr>\n",
       "    <tr>\n",
       "      <th>LG전자</th>\n",
       "      <td>4.38</td>\n",
       "      <td>1.45</td>\n",
       "    </tr>\n",
       "  </tbody>\n",
       "</table>\n",
       "</div>"
      ],
      "text/plain": [
       "             종가    PER\n",
       "네이버   157000.00  39.88\n",
       "삼성전자      39.88   8.52\n",
       "LG전자       4.38   1.45"
      ]
     },
     "execution_count": 191,
     "metadata": {},
     "output_type": "execute_result"
    }
   ],
   "source": [
    "df.iloc[[0,1,2],[0,1]]"
   ]
  },
  {
   "cell_type": "code",
   "execution_count": 192,
   "id": "bda32c3d",
   "metadata": {},
   "outputs": [
    {
     "data": {
      "text/html": [
       "<div>\n",
       "<style scoped>\n",
       "    .dataframe tbody tr th:only-of-type {\n",
       "        vertical-align: middle;\n",
       "    }\n",
       "\n",
       "    .dataframe tbody tr th {\n",
       "        vertical-align: top;\n",
       "    }\n",
       "\n",
       "    .dataframe thead th {\n",
       "        text-align: right;\n",
       "    }\n",
       "</style>\n",
       "<table border=\"1\" class=\"dataframe\">\n",
       "  <thead>\n",
       "    <tr style=\"text-align: right;\">\n",
       "      <th></th>\n",
       "      <th>종가</th>\n",
       "      <th>PER</th>\n",
       "    </tr>\n",
       "  </thead>\n",
       "  <tbody>\n",
       "    <tr>\n",
       "      <th>네이버</th>\n",
       "      <td>157000.00</td>\n",
       "      <td>39.88</td>\n",
       "    </tr>\n",
       "    <tr>\n",
       "      <th>삼성전자</th>\n",
       "      <td>39.88</td>\n",
       "      <td>8.52</td>\n",
       "    </tr>\n",
       "    <tr>\n",
       "      <th>LG전자</th>\n",
       "      <td>4.38</td>\n",
       "      <td>1.45</td>\n",
       "    </tr>\n",
       "  </tbody>\n",
       "</table>\n",
       "</div>"
      ],
      "text/plain": [
       "             종가    PER\n",
       "네이버   157000.00  39.88\n",
       "삼성전자      39.88   8.52\n",
       "LG전자       4.38   1.45"
      ]
     },
     "execution_count": 192,
     "metadata": {},
     "output_type": "execute_result"
    }
   ],
   "source": [
    "df.iloc[0:3,[0,1]]"
   ]
  },
  {
   "cell_type": "markdown",
   "id": "68ef42d5",
   "metadata": {},
   "source": [
    "### 판다스 데이터프레임 추가 삭제 컬럼 추가"
   ]
  },
  {
   "cell_type": "code",
   "execution_count": 194,
   "id": "ca06cae9",
   "metadata": {},
   "outputs": [],
   "source": [
    "import pyupbit"
   ]
  },
  {
   "cell_type": "code",
   "execution_count": 201,
   "id": "97959e96",
   "metadata": {},
   "outputs": [
    {
     "data": {
      "text/html": [
       "<div>\n",
       "<style scoped>\n",
       "    .dataframe tbody tr th:only-of-type {\n",
       "        vertical-align: middle;\n",
       "    }\n",
       "\n",
       "    .dataframe tbody tr th {\n",
       "        vertical-align: top;\n",
       "    }\n",
       "\n",
       "    .dataframe thead th {\n",
       "        text-align: right;\n",
       "    }\n",
       "</style>\n",
       "<table border=\"1\" class=\"dataframe\">\n",
       "  <thead>\n",
       "    <tr style=\"text-align: right;\">\n",
       "      <th></th>\n",
       "      <th>open</th>\n",
       "      <th>high</th>\n",
       "      <th>low</th>\n",
       "      <th>close</th>\n",
       "      <th>volume</th>\n",
       "      <th>value</th>\n",
       "    </tr>\n",
       "  </thead>\n",
       "  <tbody>\n",
       "    <tr>\n",
       "      <th>2022-08-21 09:00:00</th>\n",
       "      <td>29350000.0</td>\n",
       "      <td>29760000.0</td>\n",
       "      <td>29016000.0</td>\n",
       "      <td>29459000.0</td>\n",
       "      <td>3786.406886</td>\n",
       "      <td>1.113137e+11</td>\n",
       "    </tr>\n",
       "    <tr>\n",
       "      <th>2022-08-22 09:00:00</th>\n",
       "      <td>29458000.0</td>\n",
       "      <td>29554000.0</td>\n",
       "      <td>28857000.0</td>\n",
       "      <td>29260000.0</td>\n",
       "      <td>4297.803752</td>\n",
       "      <td>1.254949e+11</td>\n",
       "    </tr>\n",
       "    <tr>\n",
       "      <th>2022-08-23 09:00:00</th>\n",
       "      <td>29261000.0</td>\n",
       "      <td>29528000.0</td>\n",
       "      <td>28701000.0</td>\n",
       "      <td>29307000.0</td>\n",
       "      <td>3763.613823</td>\n",
       "      <td>1.098211e+11</td>\n",
       "    </tr>\n",
       "    <tr>\n",
       "      <th>2022-08-24 09:00:00</th>\n",
       "      <td>29287000.0</td>\n",
       "      <td>29695000.0</td>\n",
       "      <td>28950000.0</td>\n",
       "      <td>29104000.0</td>\n",
       "      <td>3125.560121</td>\n",
       "      <td>9.143187e+10</td>\n",
       "    </tr>\n",
       "    <tr>\n",
       "      <th>2022-08-25 09:00:00</th>\n",
       "      <td>29103000.0</td>\n",
       "      <td>29500000.0</td>\n",
       "      <td>29036000.0</td>\n",
       "      <td>29300000.0</td>\n",
       "      <td>3452.121992</td>\n",
       "      <td>1.012016e+11</td>\n",
       "    </tr>\n",
       "  </tbody>\n",
       "</table>\n",
       "</div>"
      ],
      "text/plain": [
       "                           open        high         low       close  \\\n",
       "2022-08-21 09:00:00  29350000.0  29760000.0  29016000.0  29459000.0   \n",
       "2022-08-22 09:00:00  29458000.0  29554000.0  28857000.0  29260000.0   \n",
       "2022-08-23 09:00:00  29261000.0  29528000.0  28701000.0  29307000.0   \n",
       "2022-08-24 09:00:00  29287000.0  29695000.0  28950000.0  29104000.0   \n",
       "2022-08-25 09:00:00  29103000.0  29500000.0  29036000.0  29300000.0   \n",
       "\n",
       "                          volume         value  \n",
       "2022-08-21 09:00:00  3786.406886  1.113137e+11  \n",
       "2022-08-22 09:00:00  4297.803752  1.254949e+11  \n",
       "2022-08-23 09:00:00  3763.613823  1.098211e+11  \n",
       "2022-08-24 09:00:00  3125.560121  9.143187e+10  \n",
       "2022-08-25 09:00:00  3452.121992  1.012016e+11  "
      ]
     },
     "execution_count": 201,
     "metadata": {},
     "output_type": "execute_result"
    }
   ],
   "source": [
    "df = pyupbit.get_ohlcv('KRW-BTC')\n",
    "df.head()"
   ]
  },
  {
   "cell_type": "code",
   "execution_count": 196,
   "id": "9820dc63",
   "metadata": {},
   "outputs": [],
   "source": [
    "df['range'] = df['high']- df['low']"
   ]
  },
  {
   "cell_type": "code",
   "execution_count": 206,
   "id": "66a4dbbd",
   "metadata": {},
   "outputs": [],
   "source": [
    "df2 = df.drop('value', axis = 1, inplace = True)   ## axis => 0일때는 행을, 1일때는 열을 선택한다는뜻"
   ]
  },
  {
   "cell_type": "code",
   "execution_count": 208,
   "id": "fc53d95f",
   "metadata": {},
   "outputs": [
    {
     "data": {
      "text/html": [
       "<div>\n",
       "<style scoped>\n",
       "    .dataframe tbody tr th:only-of-type {\n",
       "        vertical-align: middle;\n",
       "    }\n",
       "\n",
       "    .dataframe tbody tr th {\n",
       "        vertical-align: top;\n",
       "    }\n",
       "\n",
       "    .dataframe thead th {\n",
       "        text-align: right;\n",
       "    }\n",
       "</style>\n",
       "<table border=\"1\" class=\"dataframe\">\n",
       "  <thead>\n",
       "    <tr style=\"text-align: right;\">\n",
       "      <th></th>\n",
       "      <th>open</th>\n",
       "      <th>high</th>\n",
       "      <th>low</th>\n",
       "      <th>close</th>\n",
       "      <th>volume</th>\n",
       "    </tr>\n",
       "  </thead>\n",
       "  <tbody>\n",
       "    <tr>\n",
       "      <th>2022-08-21 09:00:00</th>\n",
       "      <td>29350000.0</td>\n",
       "      <td>29760000.0</td>\n",
       "      <td>29016000.0</td>\n",
       "      <td>29459000.0</td>\n",
       "      <td>3786.406886</td>\n",
       "    </tr>\n",
       "    <tr>\n",
       "      <th>2022-08-22 09:00:00</th>\n",
       "      <td>29458000.0</td>\n",
       "      <td>29554000.0</td>\n",
       "      <td>28857000.0</td>\n",
       "      <td>29260000.0</td>\n",
       "      <td>4297.803752</td>\n",
       "    </tr>\n",
       "    <tr>\n",
       "      <th>2022-08-23 09:00:00</th>\n",
       "      <td>29261000.0</td>\n",
       "      <td>29528000.0</td>\n",
       "      <td>28701000.0</td>\n",
       "      <td>29307000.0</td>\n",
       "      <td>3763.613823</td>\n",
       "    </tr>\n",
       "    <tr>\n",
       "      <th>2022-08-24 09:00:00</th>\n",
       "      <td>29287000.0</td>\n",
       "      <td>29695000.0</td>\n",
       "      <td>28950000.0</td>\n",
       "      <td>29104000.0</td>\n",
       "      <td>3125.560121</td>\n",
       "    </tr>\n",
       "    <tr>\n",
       "      <th>2022-08-25 09:00:00</th>\n",
       "      <td>29103000.0</td>\n",
       "      <td>29500000.0</td>\n",
       "      <td>29036000.0</td>\n",
       "      <td>29300000.0</td>\n",
       "      <td>3452.121992</td>\n",
       "    </tr>\n",
       "    <tr>\n",
       "      <th>...</th>\n",
       "      <td>...</td>\n",
       "      <td>...</td>\n",
       "      <td>...</td>\n",
       "      <td>...</td>\n",
       "      <td>...</td>\n",
       "    </tr>\n",
       "    <tr>\n",
       "      <th>2023-03-04 09:00:00</th>\n",
       "      <td>29710000.0</td>\n",
       "      <td>29907000.0</td>\n",
       "      <td>29638000.0</td>\n",
       "      <td>29838000.0</td>\n",
       "      <td>2222.291205</td>\n",
       "    </tr>\n",
       "    <tr>\n",
       "      <th>2023-03-05 09:00:00</th>\n",
       "      <td>29837000.0</td>\n",
       "      <td>30097000.0</td>\n",
       "      <td>29650000.0</td>\n",
       "      <td>29982000.0</td>\n",
       "      <td>2189.453910</td>\n",
       "    </tr>\n",
       "    <tr>\n",
       "      <th>2023-03-06 09:00:00</th>\n",
       "      <td>29982000.0</td>\n",
       "      <td>30066000.0</td>\n",
       "      <td>29638000.0</td>\n",
       "      <td>29769000.0</td>\n",
       "      <td>2405.786232</td>\n",
       "    </tr>\n",
       "    <tr>\n",
       "      <th>2023-03-07 09:00:00</th>\n",
       "      <td>29769000.0</td>\n",
       "      <td>29978000.0</td>\n",
       "      <td>29250000.0</td>\n",
       "      <td>29579000.0</td>\n",
       "      <td>7624.354355</td>\n",
       "    </tr>\n",
       "    <tr>\n",
       "      <th>2023-03-08 09:00:00</th>\n",
       "      <td>29579000.0</td>\n",
       "      <td>29660000.0</td>\n",
       "      <td>29500000.0</td>\n",
       "      <td>29540000.0</td>\n",
       "      <td>1187.690877</td>\n",
       "    </tr>\n",
       "  </tbody>\n",
       "</table>\n",
       "<p>200 rows × 5 columns</p>\n",
       "</div>"
      ],
      "text/plain": [
       "                           open        high         low       close  \\\n",
       "2022-08-21 09:00:00  29350000.0  29760000.0  29016000.0  29459000.0   \n",
       "2022-08-22 09:00:00  29458000.0  29554000.0  28857000.0  29260000.0   \n",
       "2022-08-23 09:00:00  29261000.0  29528000.0  28701000.0  29307000.0   \n",
       "2022-08-24 09:00:00  29287000.0  29695000.0  28950000.0  29104000.0   \n",
       "2022-08-25 09:00:00  29103000.0  29500000.0  29036000.0  29300000.0   \n",
       "...                         ...         ...         ...         ...   \n",
       "2023-03-04 09:00:00  29710000.0  29907000.0  29638000.0  29838000.0   \n",
       "2023-03-05 09:00:00  29837000.0  30097000.0  29650000.0  29982000.0   \n",
       "2023-03-06 09:00:00  29982000.0  30066000.0  29638000.0  29769000.0   \n",
       "2023-03-07 09:00:00  29769000.0  29978000.0  29250000.0  29579000.0   \n",
       "2023-03-08 09:00:00  29579000.0  29660000.0  29500000.0  29540000.0   \n",
       "\n",
       "                          volume  \n",
       "2022-08-21 09:00:00  3786.406886  \n",
       "2022-08-22 09:00:00  4297.803752  \n",
       "2022-08-23 09:00:00  3763.613823  \n",
       "2022-08-24 09:00:00  3125.560121  \n",
       "2022-08-25 09:00:00  3452.121992  \n",
       "...                          ...  \n",
       "2023-03-04 09:00:00  2222.291205  \n",
       "2023-03-05 09:00:00  2189.453910  \n",
       "2023-03-06 09:00:00  2405.786232  \n",
       "2023-03-07 09:00:00  7624.354355  \n",
       "2023-03-08 09:00:00  1187.690877  \n",
       "\n",
       "[200 rows x 5 columns]"
      ]
     },
     "execution_count": 208,
     "metadata": {},
     "output_type": "execute_result"
    }
   ],
   "source": [
    "df"
   ]
  },
  {
   "cell_type": "markdown",
   "id": "7e842575",
   "metadata": {},
   "source": [
    "### 판다스 시계열 데이터와 인덱스"
   ]
  },
  {
   "cell_type": "code",
   "execution_count": 209,
   "id": "458c9ae8",
   "metadata": {},
   "outputs": [
    {
     "name": "stdout",
     "output_type": "stream",
     "text": [
      "<class 'pandas.core.indexes.datetimes.DatetimeIndex'>\n"
     ]
    }
   ],
   "source": [
    "date = [\"2022-03-08\"]\n",
    "index = pd.to_datetime(date)\n",
    "print(type(index))   ##리스트 안에 묶여있음으로 여러개 일 수 있어 DatetimeIndex"
   ]
  },
  {
   "cell_type": "code",
   "execution_count": 211,
   "id": "06369b79",
   "metadata": {},
   "outputs": [
    {
     "name": "stdout",
     "output_type": "stream",
     "text": [
      "<class 'pandas._libs.tslibs.timestamps.Timestamp'>\n"
     ]
    }
   ],
   "source": [
    "date = \"2022-03-08\"\n",
    "index = pd.to_datetime(date)\n",
    "print(type(index)) ##한개 밖에 존재함으로 timestamp"
   ]
  },
  {
   "cell_type": "markdown",
   "id": "64aaea8c",
   "metadata": {},
   "source": [
    "### 로우 추가"
   ]
  },
  {
   "cell_type": "code",
   "execution_count": 214,
   "id": "c6c140bd",
   "metadata": {},
   "outputs": [],
   "source": [
    "date = \"2022-08-21 09:00:00\"\n",
    "index = pd.to_datetime(date)\n",
    "df.loc[index]= [190,100,100,100,100]"
   ]
  },
  {
   "cell_type": "code",
   "execution_count": 215,
   "id": "746f2b36",
   "metadata": {},
   "outputs": [
    {
     "data": {
      "text/html": [
       "<div>\n",
       "<style scoped>\n",
       "    .dataframe tbody tr th:only-of-type {\n",
       "        vertical-align: middle;\n",
       "    }\n",
       "\n",
       "    .dataframe tbody tr th {\n",
       "        vertical-align: top;\n",
       "    }\n",
       "\n",
       "    .dataframe thead th {\n",
       "        text-align: right;\n",
       "    }\n",
       "</style>\n",
       "<table border=\"1\" class=\"dataframe\">\n",
       "  <thead>\n",
       "    <tr style=\"text-align: right;\">\n",
       "      <th></th>\n",
       "      <th>open</th>\n",
       "      <th>high</th>\n",
       "      <th>low</th>\n",
       "      <th>close</th>\n",
       "      <th>volume</th>\n",
       "    </tr>\n",
       "  </thead>\n",
       "  <tbody>\n",
       "    <tr>\n",
       "      <th>2022-08-21 09:00:00</th>\n",
       "      <td>190.0</td>\n",
       "      <td>100.0</td>\n",
       "      <td>100.0</td>\n",
       "      <td>100.0</td>\n",
       "      <td>100.000000</td>\n",
       "    </tr>\n",
       "    <tr>\n",
       "      <th>2022-08-22 09:00:00</th>\n",
       "      <td>29458000.0</td>\n",
       "      <td>29554000.0</td>\n",
       "      <td>28857000.0</td>\n",
       "      <td>29260000.0</td>\n",
       "      <td>4297.803752</td>\n",
       "    </tr>\n",
       "    <tr>\n",
       "      <th>2022-08-23 09:00:00</th>\n",
       "      <td>29261000.0</td>\n",
       "      <td>29528000.0</td>\n",
       "      <td>28701000.0</td>\n",
       "      <td>29307000.0</td>\n",
       "      <td>3763.613823</td>\n",
       "    </tr>\n",
       "    <tr>\n",
       "      <th>2022-08-24 09:00:00</th>\n",
       "      <td>29287000.0</td>\n",
       "      <td>29695000.0</td>\n",
       "      <td>28950000.0</td>\n",
       "      <td>29104000.0</td>\n",
       "      <td>3125.560121</td>\n",
       "    </tr>\n",
       "    <tr>\n",
       "      <th>2022-08-25 09:00:00</th>\n",
       "      <td>29103000.0</td>\n",
       "      <td>29500000.0</td>\n",
       "      <td>29036000.0</td>\n",
       "      <td>29300000.0</td>\n",
       "      <td>3452.121992</td>\n",
       "    </tr>\n",
       "    <tr>\n",
       "      <th>...</th>\n",
       "      <td>...</td>\n",
       "      <td>...</td>\n",
       "      <td>...</td>\n",
       "      <td>...</td>\n",
       "      <td>...</td>\n",
       "    </tr>\n",
       "    <tr>\n",
       "      <th>2023-03-05 09:00:00</th>\n",
       "      <td>29837000.0</td>\n",
       "      <td>30097000.0</td>\n",
       "      <td>29650000.0</td>\n",
       "      <td>29982000.0</td>\n",
       "      <td>2189.453910</td>\n",
       "    </tr>\n",
       "    <tr>\n",
       "      <th>2023-03-06 09:00:00</th>\n",
       "      <td>29982000.0</td>\n",
       "      <td>30066000.0</td>\n",
       "      <td>29638000.0</td>\n",
       "      <td>29769000.0</td>\n",
       "      <td>2405.786232</td>\n",
       "    </tr>\n",
       "    <tr>\n",
       "      <th>2023-03-07 09:00:00</th>\n",
       "      <td>29769000.0</td>\n",
       "      <td>29978000.0</td>\n",
       "      <td>29250000.0</td>\n",
       "      <td>29579000.0</td>\n",
       "      <td>7624.354355</td>\n",
       "    </tr>\n",
       "    <tr>\n",
       "      <th>2023-03-08 09:00:00</th>\n",
       "      <td>29579000.0</td>\n",
       "      <td>29660000.0</td>\n",
       "      <td>29500000.0</td>\n",
       "      <td>29540000.0</td>\n",
       "      <td>1187.690877</td>\n",
       "    </tr>\n",
       "    <tr>\n",
       "      <th>2022-01-01 00:00:00</th>\n",
       "      <td>190.0</td>\n",
       "      <td>100.0</td>\n",
       "      <td>100.0</td>\n",
       "      <td>100.0</td>\n",
       "      <td>100.000000</td>\n",
       "    </tr>\n",
       "  </tbody>\n",
       "</table>\n",
       "<p>201 rows × 5 columns</p>\n",
       "</div>"
      ],
      "text/plain": [
       "                           open        high         low       close  \\\n",
       "2022-08-21 09:00:00       190.0       100.0       100.0       100.0   \n",
       "2022-08-22 09:00:00  29458000.0  29554000.0  28857000.0  29260000.0   \n",
       "2022-08-23 09:00:00  29261000.0  29528000.0  28701000.0  29307000.0   \n",
       "2022-08-24 09:00:00  29287000.0  29695000.0  28950000.0  29104000.0   \n",
       "2022-08-25 09:00:00  29103000.0  29500000.0  29036000.0  29300000.0   \n",
       "...                         ...         ...         ...         ...   \n",
       "2023-03-05 09:00:00  29837000.0  30097000.0  29650000.0  29982000.0   \n",
       "2023-03-06 09:00:00  29982000.0  30066000.0  29638000.0  29769000.0   \n",
       "2023-03-07 09:00:00  29769000.0  29978000.0  29250000.0  29579000.0   \n",
       "2023-03-08 09:00:00  29579000.0  29660000.0  29500000.0  29540000.0   \n",
       "2022-01-01 00:00:00       190.0       100.0       100.0       100.0   \n",
       "\n",
       "                          volume  \n",
       "2022-08-21 09:00:00   100.000000  \n",
       "2022-08-22 09:00:00  4297.803752  \n",
       "2022-08-23 09:00:00  3763.613823  \n",
       "2022-08-24 09:00:00  3125.560121  \n",
       "2022-08-25 09:00:00  3452.121992  \n",
       "...                          ...  \n",
       "2023-03-05 09:00:00  2189.453910  \n",
       "2023-03-06 09:00:00  2405.786232  \n",
       "2023-03-07 09:00:00  7624.354355  \n",
       "2023-03-08 09:00:00  1187.690877  \n",
       "2022-01-01 00:00:00   100.000000  \n",
       "\n",
       "[201 rows x 5 columns]"
      ]
     },
     "execution_count": 215,
     "metadata": {},
     "output_type": "execute_result"
    }
   ],
   "source": [
    "df"
   ]
  },
  {
   "cell_type": "code",
   "execution_count": 220,
   "id": "07f9fa22",
   "metadata": {},
   "outputs": [],
   "source": [
    "df.drop(\"2022-08-21 09:00:00\", axis=0, inplace = True)"
   ]
  },
  {
   "cell_type": "code",
   "execution_count": 221,
   "id": "227dd140",
   "metadata": {},
   "outputs": [
    {
     "data": {
      "text/html": [
       "<div>\n",
       "<style scoped>\n",
       "    .dataframe tbody tr th:only-of-type {\n",
       "        vertical-align: middle;\n",
       "    }\n",
       "\n",
       "    .dataframe tbody tr th {\n",
       "        vertical-align: top;\n",
       "    }\n",
       "\n",
       "    .dataframe thead th {\n",
       "        text-align: right;\n",
       "    }\n",
       "</style>\n",
       "<table border=\"1\" class=\"dataframe\">\n",
       "  <thead>\n",
       "    <tr style=\"text-align: right;\">\n",
       "      <th></th>\n",
       "      <th>open</th>\n",
       "      <th>high</th>\n",
       "      <th>low</th>\n",
       "      <th>close</th>\n",
       "      <th>volume</th>\n",
       "    </tr>\n",
       "  </thead>\n",
       "  <tbody>\n",
       "    <tr>\n",
       "      <th>2022-08-22 09:00:00</th>\n",
       "      <td>29458000.0</td>\n",
       "      <td>29554000.0</td>\n",
       "      <td>28857000.0</td>\n",
       "      <td>29260000.0</td>\n",
       "      <td>4297.803752</td>\n",
       "    </tr>\n",
       "    <tr>\n",
       "      <th>2022-08-23 09:00:00</th>\n",
       "      <td>29261000.0</td>\n",
       "      <td>29528000.0</td>\n",
       "      <td>28701000.0</td>\n",
       "      <td>29307000.0</td>\n",
       "      <td>3763.613823</td>\n",
       "    </tr>\n",
       "    <tr>\n",
       "      <th>2022-08-24 09:00:00</th>\n",
       "      <td>29287000.0</td>\n",
       "      <td>29695000.0</td>\n",
       "      <td>28950000.0</td>\n",
       "      <td>29104000.0</td>\n",
       "      <td>3125.560121</td>\n",
       "    </tr>\n",
       "    <tr>\n",
       "      <th>2022-08-25 09:00:00</th>\n",
       "      <td>29103000.0</td>\n",
       "      <td>29500000.0</td>\n",
       "      <td>29036000.0</td>\n",
       "      <td>29300000.0</td>\n",
       "      <td>3452.121992</td>\n",
       "    </tr>\n",
       "    <tr>\n",
       "      <th>2022-08-26 09:00:00</th>\n",
       "      <td>29299000.0</td>\n",
       "      <td>29655000.0</td>\n",
       "      <td>27790000.0</td>\n",
       "      <td>27969000.0</td>\n",
       "      <td>7729.246705</td>\n",
       "    </tr>\n",
       "    <tr>\n",
       "      <th>...</th>\n",
       "      <td>...</td>\n",
       "      <td>...</td>\n",
       "      <td>...</td>\n",
       "      <td>...</td>\n",
       "      <td>...</td>\n",
       "    </tr>\n",
       "    <tr>\n",
       "      <th>2023-03-04 09:00:00</th>\n",
       "      <td>29710000.0</td>\n",
       "      <td>29907000.0</td>\n",
       "      <td>29638000.0</td>\n",
       "      <td>29838000.0</td>\n",
       "      <td>2222.291205</td>\n",
       "    </tr>\n",
       "    <tr>\n",
       "      <th>2023-03-05 09:00:00</th>\n",
       "      <td>29837000.0</td>\n",
       "      <td>30097000.0</td>\n",
       "      <td>29650000.0</td>\n",
       "      <td>29982000.0</td>\n",
       "      <td>2189.453910</td>\n",
       "    </tr>\n",
       "    <tr>\n",
       "      <th>2023-03-06 09:00:00</th>\n",
       "      <td>29982000.0</td>\n",
       "      <td>30066000.0</td>\n",
       "      <td>29638000.0</td>\n",
       "      <td>29769000.0</td>\n",
       "      <td>2405.786232</td>\n",
       "    </tr>\n",
       "    <tr>\n",
       "      <th>2023-03-07 09:00:00</th>\n",
       "      <td>29769000.0</td>\n",
       "      <td>29978000.0</td>\n",
       "      <td>29250000.0</td>\n",
       "      <td>29579000.0</td>\n",
       "      <td>7624.354355</td>\n",
       "    </tr>\n",
       "    <tr>\n",
       "      <th>2023-03-08 09:00:00</th>\n",
       "      <td>29579000.0</td>\n",
       "      <td>29660000.0</td>\n",
       "      <td>29500000.0</td>\n",
       "      <td>29540000.0</td>\n",
       "      <td>1187.690877</td>\n",
       "    </tr>\n",
       "  </tbody>\n",
       "</table>\n",
       "<p>199 rows × 5 columns</p>\n",
       "</div>"
      ],
      "text/plain": [
       "                           open        high         low       close  \\\n",
       "2022-08-22 09:00:00  29458000.0  29554000.0  28857000.0  29260000.0   \n",
       "2022-08-23 09:00:00  29261000.0  29528000.0  28701000.0  29307000.0   \n",
       "2022-08-24 09:00:00  29287000.0  29695000.0  28950000.0  29104000.0   \n",
       "2022-08-25 09:00:00  29103000.0  29500000.0  29036000.0  29300000.0   \n",
       "2022-08-26 09:00:00  29299000.0  29655000.0  27790000.0  27969000.0   \n",
       "...                         ...         ...         ...         ...   \n",
       "2023-03-04 09:00:00  29710000.0  29907000.0  29638000.0  29838000.0   \n",
       "2023-03-05 09:00:00  29837000.0  30097000.0  29650000.0  29982000.0   \n",
       "2023-03-06 09:00:00  29982000.0  30066000.0  29638000.0  29769000.0   \n",
       "2023-03-07 09:00:00  29769000.0  29978000.0  29250000.0  29579000.0   \n",
       "2023-03-08 09:00:00  29579000.0  29660000.0  29500000.0  29540000.0   \n",
       "\n",
       "                          volume  \n",
       "2022-08-22 09:00:00  4297.803752  \n",
       "2022-08-23 09:00:00  3763.613823  \n",
       "2022-08-24 09:00:00  3125.560121  \n",
       "2022-08-25 09:00:00  3452.121992  \n",
       "2022-08-26 09:00:00  7729.246705  \n",
       "...                          ...  \n",
       "2023-03-04 09:00:00  2222.291205  \n",
       "2023-03-05 09:00:00  2189.453910  \n",
       "2023-03-06 09:00:00  2405.786232  \n",
       "2023-03-07 09:00:00  7624.354355  \n",
       "2023-03-08 09:00:00  1187.690877  \n",
       "\n",
       "[199 rows x 5 columns]"
      ]
     },
     "execution_count": 221,
     "metadata": {},
     "output_type": "execute_result"
    }
   ],
   "source": [
    "df"
   ]
  },
  {
   "cell_type": "markdown",
   "id": "eadcbb2d",
   "metadata": {},
   "source": [
    "### 브로드캐스팅"
   ]
  },
  {
   "cell_type": "code",
   "execution_count": 236,
   "id": "81bde71a",
   "metadata": {},
   "outputs": [
    {
     "data": {
      "text/html": [
       "<div>\n",
       "<style scoped>\n",
       "    .dataframe tbody tr th:only-of-type {\n",
       "        vertical-align: middle;\n",
       "    }\n",
       "\n",
       "    .dataframe tbody tr th {\n",
       "        vertical-align: top;\n",
       "    }\n",
       "\n",
       "    .dataframe thead th {\n",
       "        text-align: right;\n",
       "    }\n",
       "</style>\n",
       "<table border=\"1\" class=\"dataframe\">\n",
       "  <thead>\n",
       "    <tr style=\"text-align: right;\">\n",
       "      <th></th>\n",
       "      <th>open</th>\n",
       "      <th>high</th>\n",
       "      <th>low</th>\n",
       "      <th>close</th>\n",
       "      <th>volume</th>\n",
       "      <th>value</th>\n",
       "    </tr>\n",
       "  </thead>\n",
       "  <tbody>\n",
       "    <tr>\n",
       "      <th>2022-08-21 09:00:00</th>\n",
       "      <td>29350000.0</td>\n",
       "      <td>29760000.0</td>\n",
       "      <td>29016000.0</td>\n",
       "      <td>29459000.0</td>\n",
       "      <td>3786.406886</td>\n",
       "      <td>1.113137e+11</td>\n",
       "    </tr>\n",
       "    <tr>\n",
       "      <th>2022-08-22 09:00:00</th>\n",
       "      <td>29458000.0</td>\n",
       "      <td>29554000.0</td>\n",
       "      <td>28857000.0</td>\n",
       "      <td>29260000.0</td>\n",
       "      <td>4297.803752</td>\n",
       "      <td>1.254949e+11</td>\n",
       "    </tr>\n",
       "    <tr>\n",
       "      <th>2022-08-23 09:00:00</th>\n",
       "      <td>29261000.0</td>\n",
       "      <td>29528000.0</td>\n",
       "      <td>28701000.0</td>\n",
       "      <td>29307000.0</td>\n",
       "      <td>3763.613823</td>\n",
       "      <td>1.098211e+11</td>\n",
       "    </tr>\n",
       "    <tr>\n",
       "      <th>2022-08-24 09:00:00</th>\n",
       "      <td>29287000.0</td>\n",
       "      <td>29695000.0</td>\n",
       "      <td>28950000.0</td>\n",
       "      <td>29104000.0</td>\n",
       "      <td>3125.560121</td>\n",
       "      <td>9.143187e+10</td>\n",
       "    </tr>\n",
       "    <tr>\n",
       "      <th>2022-08-25 09:00:00</th>\n",
       "      <td>29103000.0</td>\n",
       "      <td>29500000.0</td>\n",
       "      <td>29036000.0</td>\n",
       "      <td>29300000.0</td>\n",
       "      <td>3452.121992</td>\n",
       "      <td>1.012016e+11</td>\n",
       "    </tr>\n",
       "    <tr>\n",
       "      <th>...</th>\n",
       "      <td>...</td>\n",
       "      <td>...</td>\n",
       "      <td>...</td>\n",
       "      <td>...</td>\n",
       "      <td>...</td>\n",
       "      <td>...</td>\n",
       "    </tr>\n",
       "    <tr>\n",
       "      <th>2023-03-04 09:00:00</th>\n",
       "      <td>29710000.0</td>\n",
       "      <td>29907000.0</td>\n",
       "      <td>29638000.0</td>\n",
       "      <td>29838000.0</td>\n",
       "      <td>2222.291205</td>\n",
       "      <td>6.621347e+10</td>\n",
       "    </tr>\n",
       "    <tr>\n",
       "      <th>2023-03-05 09:00:00</th>\n",
       "      <td>29837000.0</td>\n",
       "      <td>30097000.0</td>\n",
       "      <td>29650000.0</td>\n",
       "      <td>29982000.0</td>\n",
       "      <td>2189.453910</td>\n",
       "      <td>6.548486e+10</td>\n",
       "    </tr>\n",
       "    <tr>\n",
       "      <th>2023-03-06 09:00:00</th>\n",
       "      <td>29982000.0</td>\n",
       "      <td>30066000.0</td>\n",
       "      <td>29638000.0</td>\n",
       "      <td>29769000.0</td>\n",
       "      <td>2405.786232</td>\n",
       "      <td>7.180334e+10</td>\n",
       "    </tr>\n",
       "    <tr>\n",
       "      <th>2023-03-07 09:00:00</th>\n",
       "      <td>29769000.0</td>\n",
       "      <td>29978000.0</td>\n",
       "      <td>29250000.0</td>\n",
       "      <td>29579000.0</td>\n",
       "      <td>7624.354355</td>\n",
       "      <td>2.270621e+11</td>\n",
       "    </tr>\n",
       "    <tr>\n",
       "      <th>2023-03-08 09:00:00</th>\n",
       "      <td>29579000.0</td>\n",
       "      <td>29660000.0</td>\n",
       "      <td>29434000.0</td>\n",
       "      <td>29447000.0</td>\n",
       "      <td>1530.331406</td>\n",
       "      <td>4.522878e+10</td>\n",
       "    </tr>\n",
       "  </tbody>\n",
       "</table>\n",
       "<p>200 rows × 6 columns</p>\n",
       "</div>"
      ],
      "text/plain": [
       "                           open        high         low       close  \\\n",
       "2022-08-21 09:00:00  29350000.0  29760000.0  29016000.0  29459000.0   \n",
       "2022-08-22 09:00:00  29458000.0  29554000.0  28857000.0  29260000.0   \n",
       "2022-08-23 09:00:00  29261000.0  29528000.0  28701000.0  29307000.0   \n",
       "2022-08-24 09:00:00  29287000.0  29695000.0  28950000.0  29104000.0   \n",
       "2022-08-25 09:00:00  29103000.0  29500000.0  29036000.0  29300000.0   \n",
       "...                         ...         ...         ...         ...   \n",
       "2023-03-04 09:00:00  29710000.0  29907000.0  29638000.0  29838000.0   \n",
       "2023-03-05 09:00:00  29837000.0  30097000.0  29650000.0  29982000.0   \n",
       "2023-03-06 09:00:00  29982000.0  30066000.0  29638000.0  29769000.0   \n",
       "2023-03-07 09:00:00  29769000.0  29978000.0  29250000.0  29579000.0   \n",
       "2023-03-08 09:00:00  29579000.0  29660000.0  29434000.0  29447000.0   \n",
       "\n",
       "                          volume         value  \n",
       "2022-08-21 09:00:00  3786.406886  1.113137e+11  \n",
       "2022-08-22 09:00:00  4297.803752  1.254949e+11  \n",
       "2022-08-23 09:00:00  3763.613823  1.098211e+11  \n",
       "2022-08-24 09:00:00  3125.560121  9.143187e+10  \n",
       "2022-08-25 09:00:00  3452.121992  1.012016e+11  \n",
       "...                          ...           ...  \n",
       "2023-03-04 09:00:00  2222.291205  6.621347e+10  \n",
       "2023-03-05 09:00:00  2189.453910  6.548486e+10  \n",
       "2023-03-06 09:00:00  2405.786232  7.180334e+10  \n",
       "2023-03-07 09:00:00  7624.354355  2.270621e+11  \n",
       "2023-03-08 09:00:00  1530.331406  4.522878e+10  \n",
       "\n",
       "[200 rows x 6 columns]"
      ]
     },
     "execution_count": 236,
     "metadata": {},
     "output_type": "execute_result"
    }
   ],
   "source": [
    "df = pyupbit.get_ohlcv(\"KRW-BTC\")\n",
    "df"
   ]
  },
  {
   "cell_type": "code",
   "execution_count": 237,
   "id": "69574f4f",
   "metadata": {},
   "outputs": [
    {
     "data": {
      "text/plain": [
       "2022-08-21 09:00:00    29350100.0\n",
       "2022-08-22 09:00:00    29458100.0\n",
       "2022-08-23 09:00:00    29261100.0\n",
       "2022-08-24 09:00:00    29287100.0\n",
       "2022-08-25 09:00:00    29103100.0\n",
       "                          ...    \n",
       "2023-03-04 09:00:00    29710100.0\n",
       "2023-03-05 09:00:00    29837100.0\n",
       "2023-03-06 09:00:00    29982100.0\n",
       "2023-03-07 09:00:00    29769100.0\n",
       "2023-03-08 09:00:00    29579100.0\n",
       "Name: open, Length: 200, dtype: float64"
      ]
     },
     "execution_count": 237,
     "metadata": {},
     "output_type": "execute_result"
    }
   ],
   "source": [
    "df['open']+100"
   ]
  },
  {
   "cell_type": "markdown",
   "id": "97de8f06",
   "metadata": {},
   "source": [
    "### 데이터프레임 필터링"
   ]
  },
  {
   "cell_type": "code",
   "execution_count": 238,
   "id": "a81371fb",
   "metadata": {},
   "outputs": [],
   "source": [
    "cond = df['close'] > df['open']"
   ]
  },
  {
   "cell_type": "code",
   "execution_count": 239,
   "id": "c3cac370",
   "metadata": {},
   "outputs": [
    {
     "data": {
      "text/plain": [
       "2022-08-21 09:00:00     True\n",
       "2022-08-22 09:00:00    False\n",
       "2022-08-23 09:00:00     True\n",
       "2022-08-24 09:00:00    False\n",
       "2022-08-25 09:00:00     True\n",
       "                       ...  \n",
       "2023-03-04 09:00:00     True\n",
       "2023-03-05 09:00:00     True\n",
       "2023-03-06 09:00:00    False\n",
       "2023-03-07 09:00:00    False\n",
       "2023-03-08 09:00:00    False\n",
       "Length: 200, dtype: bool"
      ]
     },
     "execution_count": 239,
     "metadata": {},
     "output_type": "execute_result"
    }
   ],
   "source": [
    "cond"
   ]
  },
  {
   "cell_type": "code",
   "execution_count": 240,
   "id": "398c6191",
   "metadata": {},
   "outputs": [
    {
     "data": {
      "text/html": [
       "<div>\n",
       "<style scoped>\n",
       "    .dataframe tbody tr th:only-of-type {\n",
       "        vertical-align: middle;\n",
       "    }\n",
       "\n",
       "    .dataframe tbody tr th {\n",
       "        vertical-align: top;\n",
       "    }\n",
       "\n",
       "    .dataframe thead th {\n",
       "        text-align: right;\n",
       "    }\n",
       "</style>\n",
       "<table border=\"1\" class=\"dataframe\">\n",
       "  <thead>\n",
       "    <tr style=\"text-align: right;\">\n",
       "      <th></th>\n",
       "      <th>open</th>\n",
       "      <th>high</th>\n",
       "      <th>low</th>\n",
       "      <th>close</th>\n",
       "      <th>volume</th>\n",
       "      <th>value</th>\n",
       "    </tr>\n",
       "  </thead>\n",
       "  <tbody>\n",
       "    <tr>\n",
       "      <th>2022-08-21 09:00:00</th>\n",
       "      <td>29350000.0</td>\n",
       "      <td>29760000.0</td>\n",
       "      <td>29016000.0</td>\n",
       "      <td>29459000.0</td>\n",
       "      <td>3786.406886</td>\n",
       "      <td>1.113137e+11</td>\n",
       "    </tr>\n",
       "    <tr>\n",
       "      <th>2022-08-22 09:00:00</th>\n",
       "      <td>29458000.0</td>\n",
       "      <td>29554000.0</td>\n",
       "      <td>28857000.0</td>\n",
       "      <td>29260000.0</td>\n",
       "      <td>4297.803752</td>\n",
       "      <td>1.254949e+11</td>\n",
       "    </tr>\n",
       "  </tbody>\n",
       "</table>\n",
       "</div>"
      ],
      "text/plain": [
       "                           open        high         low       close  \\\n",
       "2022-08-21 09:00:00  29350000.0  29760000.0  29016000.0  29459000.0   \n",
       "2022-08-22 09:00:00  29458000.0  29554000.0  28857000.0  29260000.0   \n",
       "\n",
       "                          volume         value  \n",
       "2022-08-21 09:00:00  3786.406886  1.113137e+11  \n",
       "2022-08-22 09:00:00  4297.803752  1.254949e+11  "
      ]
     },
     "execution_count": 240,
     "metadata": {},
     "output_type": "execute_result"
    }
   ],
   "source": [
    "df.head(2)"
   ]
  },
  {
   "cell_type": "markdown",
   "id": "7f0d76a2",
   "metadata": {},
   "source": [
    "### 컬럼 시프트  (데이터 프레임의 연산은 기본적으로 같은 인덱스에 있는 컬럼과 컬럼의 사이에 적용됨)"
   ]
  },
  {
   "cell_type": "code",
   "execution_count": 241,
   "id": "77a71acc",
   "metadata": {},
   "outputs": [
    {
     "data": {
      "text/html": [
       "<div>\n",
       "<style scoped>\n",
       "    .dataframe tbody tr th:only-of-type {\n",
       "        vertical-align: middle;\n",
       "    }\n",
       "\n",
       "    .dataframe tbody tr th {\n",
       "        vertical-align: top;\n",
       "    }\n",
       "\n",
       "    .dataframe thead th {\n",
       "        text-align: right;\n",
       "    }\n",
       "</style>\n",
       "<table border=\"1\" class=\"dataframe\">\n",
       "  <thead>\n",
       "    <tr style=\"text-align: right;\">\n",
       "      <th></th>\n",
       "      <th>open</th>\n",
       "      <th>high</th>\n",
       "      <th>low</th>\n",
       "      <th>close</th>\n",
       "      <th>volume</th>\n",
       "      <th>value</th>\n",
       "    </tr>\n",
       "  </thead>\n",
       "  <tbody>\n",
       "    <tr>\n",
       "      <th>2022-08-21 09:00:00</th>\n",
       "      <td>29350000.0</td>\n",
       "      <td>29760000.0</td>\n",
       "      <td>29016000.0</td>\n",
       "      <td>29459000.0</td>\n",
       "      <td>3786.406886</td>\n",
       "      <td>1.113137e+11</td>\n",
       "    </tr>\n",
       "    <tr>\n",
       "      <th>2022-08-22 09:00:00</th>\n",
       "      <td>29458000.0</td>\n",
       "      <td>29554000.0</td>\n",
       "      <td>28857000.0</td>\n",
       "      <td>29260000.0</td>\n",
       "      <td>4297.803752</td>\n",
       "      <td>1.254949e+11</td>\n",
       "    </tr>\n",
       "    <tr>\n",
       "      <th>2022-08-23 09:00:00</th>\n",
       "      <td>29261000.0</td>\n",
       "      <td>29528000.0</td>\n",
       "      <td>28701000.0</td>\n",
       "      <td>29307000.0</td>\n",
       "      <td>3763.613823</td>\n",
       "      <td>1.098211e+11</td>\n",
       "    </tr>\n",
       "    <tr>\n",
       "      <th>2022-08-24 09:00:00</th>\n",
       "      <td>29287000.0</td>\n",
       "      <td>29695000.0</td>\n",
       "      <td>28950000.0</td>\n",
       "      <td>29104000.0</td>\n",
       "      <td>3125.560121</td>\n",
       "      <td>9.143187e+10</td>\n",
       "    </tr>\n",
       "    <tr>\n",
       "      <th>2022-08-25 09:00:00</th>\n",
       "      <td>29103000.0</td>\n",
       "      <td>29500000.0</td>\n",
       "      <td>29036000.0</td>\n",
       "      <td>29300000.0</td>\n",
       "      <td>3452.121992</td>\n",
       "      <td>1.012016e+11</td>\n",
       "    </tr>\n",
       "    <tr>\n",
       "      <th>...</th>\n",
       "      <td>...</td>\n",
       "      <td>...</td>\n",
       "      <td>...</td>\n",
       "      <td>...</td>\n",
       "      <td>...</td>\n",
       "      <td>...</td>\n",
       "    </tr>\n",
       "    <tr>\n",
       "      <th>2023-03-04 09:00:00</th>\n",
       "      <td>29710000.0</td>\n",
       "      <td>29907000.0</td>\n",
       "      <td>29638000.0</td>\n",
       "      <td>29838000.0</td>\n",
       "      <td>2222.291205</td>\n",
       "      <td>6.621347e+10</td>\n",
       "    </tr>\n",
       "    <tr>\n",
       "      <th>2023-03-05 09:00:00</th>\n",
       "      <td>29837000.0</td>\n",
       "      <td>30097000.0</td>\n",
       "      <td>29650000.0</td>\n",
       "      <td>29982000.0</td>\n",
       "      <td>2189.453910</td>\n",
       "      <td>6.548486e+10</td>\n",
       "    </tr>\n",
       "    <tr>\n",
       "      <th>2023-03-06 09:00:00</th>\n",
       "      <td>29982000.0</td>\n",
       "      <td>30066000.0</td>\n",
       "      <td>29638000.0</td>\n",
       "      <td>29769000.0</td>\n",
       "      <td>2405.786232</td>\n",
       "      <td>7.180334e+10</td>\n",
       "    </tr>\n",
       "    <tr>\n",
       "      <th>2023-03-07 09:00:00</th>\n",
       "      <td>29769000.0</td>\n",
       "      <td>29978000.0</td>\n",
       "      <td>29250000.0</td>\n",
       "      <td>29579000.0</td>\n",
       "      <td>7624.354355</td>\n",
       "      <td>2.270621e+11</td>\n",
       "    </tr>\n",
       "    <tr>\n",
       "      <th>2023-03-08 09:00:00</th>\n",
       "      <td>29579000.0</td>\n",
       "      <td>29660000.0</td>\n",
       "      <td>29434000.0</td>\n",
       "      <td>29447000.0</td>\n",
       "      <td>1530.331406</td>\n",
       "      <td>4.522878e+10</td>\n",
       "    </tr>\n",
       "  </tbody>\n",
       "</table>\n",
       "<p>200 rows × 6 columns</p>\n",
       "</div>"
      ],
      "text/plain": [
       "                           open        high         low       close  \\\n",
       "2022-08-21 09:00:00  29350000.0  29760000.0  29016000.0  29459000.0   \n",
       "2022-08-22 09:00:00  29458000.0  29554000.0  28857000.0  29260000.0   \n",
       "2022-08-23 09:00:00  29261000.0  29528000.0  28701000.0  29307000.0   \n",
       "2022-08-24 09:00:00  29287000.0  29695000.0  28950000.0  29104000.0   \n",
       "2022-08-25 09:00:00  29103000.0  29500000.0  29036000.0  29300000.0   \n",
       "...                         ...         ...         ...         ...   \n",
       "2023-03-04 09:00:00  29710000.0  29907000.0  29638000.0  29838000.0   \n",
       "2023-03-05 09:00:00  29837000.0  30097000.0  29650000.0  29982000.0   \n",
       "2023-03-06 09:00:00  29982000.0  30066000.0  29638000.0  29769000.0   \n",
       "2023-03-07 09:00:00  29769000.0  29978000.0  29250000.0  29579000.0   \n",
       "2023-03-08 09:00:00  29579000.0  29660000.0  29434000.0  29447000.0   \n",
       "\n",
       "                          volume         value  \n",
       "2022-08-21 09:00:00  3786.406886  1.113137e+11  \n",
       "2022-08-22 09:00:00  4297.803752  1.254949e+11  \n",
       "2022-08-23 09:00:00  3763.613823  1.098211e+11  \n",
       "2022-08-24 09:00:00  3125.560121  9.143187e+10  \n",
       "2022-08-25 09:00:00  3452.121992  1.012016e+11  \n",
       "...                          ...           ...  \n",
       "2023-03-04 09:00:00  2222.291205  6.621347e+10  \n",
       "2023-03-05 09:00:00  2189.453910  6.548486e+10  \n",
       "2023-03-06 09:00:00  2405.786232  7.180334e+10  \n",
       "2023-03-07 09:00:00  7624.354355  2.270621e+11  \n",
       "2023-03-08 09:00:00  1530.331406  4.522878e+10  \n",
       "\n",
       "[200 rows x 6 columns]"
      ]
     },
     "execution_count": 241,
     "metadata": {},
     "output_type": "execute_result"
    }
   ],
   "source": [
    "df"
   ]
  },
  {
   "cell_type": "code",
   "execution_count": 243,
   "id": "c3833645",
   "metadata": {},
   "outputs": [],
   "source": [
    "df.drop(['volume', 'value'], axis = 1, inplace=True)"
   ]
  },
  {
   "cell_type": "code",
   "execution_count": 244,
   "id": "bff16ed7",
   "metadata": {},
   "outputs": [
    {
     "data": {
      "text/html": [
       "<div>\n",
       "<style scoped>\n",
       "    .dataframe tbody tr th:only-of-type {\n",
       "        vertical-align: middle;\n",
       "    }\n",
       "\n",
       "    .dataframe tbody tr th {\n",
       "        vertical-align: top;\n",
       "    }\n",
       "\n",
       "    .dataframe thead th {\n",
       "        text-align: right;\n",
       "    }\n",
       "</style>\n",
       "<table border=\"1\" class=\"dataframe\">\n",
       "  <thead>\n",
       "    <tr style=\"text-align: right;\">\n",
       "      <th></th>\n",
       "      <th>open</th>\n",
       "      <th>high</th>\n",
       "      <th>low</th>\n",
       "      <th>close</th>\n",
       "    </tr>\n",
       "  </thead>\n",
       "  <tbody>\n",
       "    <tr>\n",
       "      <th>2022-08-21 09:00:00</th>\n",
       "      <td>29350000.0</td>\n",
       "      <td>29760000.0</td>\n",
       "      <td>29016000.0</td>\n",
       "      <td>29459000.0</td>\n",
       "    </tr>\n",
       "    <tr>\n",
       "      <th>2022-08-22 09:00:00</th>\n",
       "      <td>29458000.0</td>\n",
       "      <td>29554000.0</td>\n",
       "      <td>28857000.0</td>\n",
       "      <td>29260000.0</td>\n",
       "    </tr>\n",
       "    <tr>\n",
       "      <th>2022-08-23 09:00:00</th>\n",
       "      <td>29261000.0</td>\n",
       "      <td>29528000.0</td>\n",
       "      <td>28701000.0</td>\n",
       "      <td>29307000.0</td>\n",
       "    </tr>\n",
       "    <tr>\n",
       "      <th>2022-08-24 09:00:00</th>\n",
       "      <td>29287000.0</td>\n",
       "      <td>29695000.0</td>\n",
       "      <td>28950000.0</td>\n",
       "      <td>29104000.0</td>\n",
       "    </tr>\n",
       "    <tr>\n",
       "      <th>2022-08-25 09:00:00</th>\n",
       "      <td>29103000.0</td>\n",
       "      <td>29500000.0</td>\n",
       "      <td>29036000.0</td>\n",
       "      <td>29300000.0</td>\n",
       "    </tr>\n",
       "    <tr>\n",
       "      <th>...</th>\n",
       "      <td>...</td>\n",
       "      <td>...</td>\n",
       "      <td>...</td>\n",
       "      <td>...</td>\n",
       "    </tr>\n",
       "    <tr>\n",
       "      <th>2023-03-04 09:00:00</th>\n",
       "      <td>29710000.0</td>\n",
       "      <td>29907000.0</td>\n",
       "      <td>29638000.0</td>\n",
       "      <td>29838000.0</td>\n",
       "    </tr>\n",
       "    <tr>\n",
       "      <th>2023-03-05 09:00:00</th>\n",
       "      <td>29837000.0</td>\n",
       "      <td>30097000.0</td>\n",
       "      <td>29650000.0</td>\n",
       "      <td>29982000.0</td>\n",
       "    </tr>\n",
       "    <tr>\n",
       "      <th>2023-03-06 09:00:00</th>\n",
       "      <td>29982000.0</td>\n",
       "      <td>30066000.0</td>\n",
       "      <td>29638000.0</td>\n",
       "      <td>29769000.0</td>\n",
       "    </tr>\n",
       "    <tr>\n",
       "      <th>2023-03-07 09:00:00</th>\n",
       "      <td>29769000.0</td>\n",
       "      <td>29978000.0</td>\n",
       "      <td>29250000.0</td>\n",
       "      <td>29579000.0</td>\n",
       "    </tr>\n",
       "    <tr>\n",
       "      <th>2023-03-08 09:00:00</th>\n",
       "      <td>29579000.0</td>\n",
       "      <td>29660000.0</td>\n",
       "      <td>29434000.0</td>\n",
       "      <td>29447000.0</td>\n",
       "    </tr>\n",
       "  </tbody>\n",
       "</table>\n",
       "<p>200 rows × 4 columns</p>\n",
       "</div>"
      ],
      "text/plain": [
       "                           open        high         low       close\n",
       "2022-08-21 09:00:00  29350000.0  29760000.0  29016000.0  29459000.0\n",
       "2022-08-22 09:00:00  29458000.0  29554000.0  28857000.0  29260000.0\n",
       "2022-08-23 09:00:00  29261000.0  29528000.0  28701000.0  29307000.0\n",
       "2022-08-24 09:00:00  29287000.0  29695000.0  28950000.0  29104000.0\n",
       "2022-08-25 09:00:00  29103000.0  29500000.0  29036000.0  29300000.0\n",
       "...                         ...         ...         ...         ...\n",
       "2023-03-04 09:00:00  29710000.0  29907000.0  29638000.0  29838000.0\n",
       "2023-03-05 09:00:00  29837000.0  30097000.0  29650000.0  29982000.0\n",
       "2023-03-06 09:00:00  29982000.0  30066000.0  29638000.0  29769000.0\n",
       "2023-03-07 09:00:00  29769000.0  29978000.0  29250000.0  29579000.0\n",
       "2023-03-08 09:00:00  29579000.0  29660000.0  29434000.0  29447000.0\n",
       "\n",
       "[200 rows x 4 columns]"
      ]
     },
     "execution_count": 244,
     "metadata": {},
     "output_type": "execute_result"
    }
   ],
   "source": [
    "df"
   ]
  },
  {
   "cell_type": "code",
   "execution_count": 245,
   "id": "60a6f7a4",
   "metadata": {},
   "outputs": [],
   "source": [
    "df['close_shift1'] = df['close'].shift(1)"
   ]
  },
  {
   "cell_type": "code",
   "execution_count": 246,
   "id": "6e132edf",
   "metadata": {},
   "outputs": [
    {
     "data": {
      "text/html": [
       "<div>\n",
       "<style scoped>\n",
       "    .dataframe tbody tr th:only-of-type {\n",
       "        vertical-align: middle;\n",
       "    }\n",
       "\n",
       "    .dataframe tbody tr th {\n",
       "        vertical-align: top;\n",
       "    }\n",
       "\n",
       "    .dataframe thead th {\n",
       "        text-align: right;\n",
       "    }\n",
       "</style>\n",
       "<table border=\"1\" class=\"dataframe\">\n",
       "  <thead>\n",
       "    <tr style=\"text-align: right;\">\n",
       "      <th></th>\n",
       "      <th>open</th>\n",
       "      <th>high</th>\n",
       "      <th>low</th>\n",
       "      <th>close</th>\n",
       "      <th>close_shift1</th>\n",
       "    </tr>\n",
       "  </thead>\n",
       "  <tbody>\n",
       "    <tr>\n",
       "      <th>2022-08-21 09:00:00</th>\n",
       "      <td>29350000.0</td>\n",
       "      <td>29760000.0</td>\n",
       "      <td>29016000.0</td>\n",
       "      <td>29459000.0</td>\n",
       "      <td>NaN</td>\n",
       "    </tr>\n",
       "    <tr>\n",
       "      <th>2022-08-22 09:00:00</th>\n",
       "      <td>29458000.0</td>\n",
       "      <td>29554000.0</td>\n",
       "      <td>28857000.0</td>\n",
       "      <td>29260000.0</td>\n",
       "      <td>29459000.0</td>\n",
       "    </tr>\n",
       "    <tr>\n",
       "      <th>2022-08-23 09:00:00</th>\n",
       "      <td>29261000.0</td>\n",
       "      <td>29528000.0</td>\n",
       "      <td>28701000.0</td>\n",
       "      <td>29307000.0</td>\n",
       "      <td>29260000.0</td>\n",
       "    </tr>\n",
       "    <tr>\n",
       "      <th>2022-08-24 09:00:00</th>\n",
       "      <td>29287000.0</td>\n",
       "      <td>29695000.0</td>\n",
       "      <td>28950000.0</td>\n",
       "      <td>29104000.0</td>\n",
       "      <td>29307000.0</td>\n",
       "    </tr>\n",
       "    <tr>\n",
       "      <th>2022-08-25 09:00:00</th>\n",
       "      <td>29103000.0</td>\n",
       "      <td>29500000.0</td>\n",
       "      <td>29036000.0</td>\n",
       "      <td>29300000.0</td>\n",
       "      <td>29104000.0</td>\n",
       "    </tr>\n",
       "    <tr>\n",
       "      <th>...</th>\n",
       "      <td>...</td>\n",
       "      <td>...</td>\n",
       "      <td>...</td>\n",
       "      <td>...</td>\n",
       "      <td>...</td>\n",
       "    </tr>\n",
       "    <tr>\n",
       "      <th>2023-03-04 09:00:00</th>\n",
       "      <td>29710000.0</td>\n",
       "      <td>29907000.0</td>\n",
       "      <td>29638000.0</td>\n",
       "      <td>29838000.0</td>\n",
       "      <td>29709000.0</td>\n",
       "    </tr>\n",
       "    <tr>\n",
       "      <th>2023-03-05 09:00:00</th>\n",
       "      <td>29837000.0</td>\n",
       "      <td>30097000.0</td>\n",
       "      <td>29650000.0</td>\n",
       "      <td>29982000.0</td>\n",
       "      <td>29838000.0</td>\n",
       "    </tr>\n",
       "    <tr>\n",
       "      <th>2023-03-06 09:00:00</th>\n",
       "      <td>29982000.0</td>\n",
       "      <td>30066000.0</td>\n",
       "      <td>29638000.0</td>\n",
       "      <td>29769000.0</td>\n",
       "      <td>29982000.0</td>\n",
       "    </tr>\n",
       "    <tr>\n",
       "      <th>2023-03-07 09:00:00</th>\n",
       "      <td>29769000.0</td>\n",
       "      <td>29978000.0</td>\n",
       "      <td>29250000.0</td>\n",
       "      <td>29579000.0</td>\n",
       "      <td>29769000.0</td>\n",
       "    </tr>\n",
       "    <tr>\n",
       "      <th>2023-03-08 09:00:00</th>\n",
       "      <td>29579000.0</td>\n",
       "      <td>29660000.0</td>\n",
       "      <td>29434000.0</td>\n",
       "      <td>29447000.0</td>\n",
       "      <td>29579000.0</td>\n",
       "    </tr>\n",
       "  </tbody>\n",
       "</table>\n",
       "<p>200 rows × 5 columns</p>\n",
       "</div>"
      ],
      "text/plain": [
       "                           open        high         low       close  \\\n",
       "2022-08-21 09:00:00  29350000.0  29760000.0  29016000.0  29459000.0   \n",
       "2022-08-22 09:00:00  29458000.0  29554000.0  28857000.0  29260000.0   \n",
       "2022-08-23 09:00:00  29261000.0  29528000.0  28701000.0  29307000.0   \n",
       "2022-08-24 09:00:00  29287000.0  29695000.0  28950000.0  29104000.0   \n",
       "2022-08-25 09:00:00  29103000.0  29500000.0  29036000.0  29300000.0   \n",
       "...                         ...         ...         ...         ...   \n",
       "2023-03-04 09:00:00  29710000.0  29907000.0  29638000.0  29838000.0   \n",
       "2023-03-05 09:00:00  29837000.0  30097000.0  29650000.0  29982000.0   \n",
       "2023-03-06 09:00:00  29982000.0  30066000.0  29638000.0  29769000.0   \n",
       "2023-03-07 09:00:00  29769000.0  29978000.0  29250000.0  29579000.0   \n",
       "2023-03-08 09:00:00  29579000.0  29660000.0  29434000.0  29447000.0   \n",
       "\n",
       "                     close_shift1  \n",
       "2022-08-21 09:00:00           NaN  \n",
       "2022-08-22 09:00:00    29459000.0  \n",
       "2022-08-23 09:00:00    29260000.0  \n",
       "2022-08-24 09:00:00    29307000.0  \n",
       "2022-08-25 09:00:00    29104000.0  \n",
       "...                           ...  \n",
       "2023-03-04 09:00:00    29709000.0  \n",
       "2023-03-05 09:00:00    29838000.0  \n",
       "2023-03-06 09:00:00    29982000.0  \n",
       "2023-03-07 09:00:00    29769000.0  \n",
       "2023-03-08 09:00:00    29579000.0  \n",
       "\n",
       "[200 rows x 5 columns]"
      ]
     },
     "execution_count": 246,
     "metadata": {},
     "output_type": "execute_result"
    }
   ],
   "source": [
    "df"
   ]
  },
  {
   "cell_type": "code",
   "execution_count": 247,
   "id": "64611dcf",
   "metadata": {},
   "outputs": [],
   "source": [
    "df['diff'] = df['close']-df['close_shift1']"
   ]
  },
  {
   "cell_type": "code",
   "execution_count": 248,
   "id": "96c12ae0",
   "metadata": {},
   "outputs": [
    {
     "data": {
      "text/html": [
       "<div>\n",
       "<style scoped>\n",
       "    .dataframe tbody tr th:only-of-type {\n",
       "        vertical-align: middle;\n",
       "    }\n",
       "\n",
       "    .dataframe tbody tr th {\n",
       "        vertical-align: top;\n",
       "    }\n",
       "\n",
       "    .dataframe thead th {\n",
       "        text-align: right;\n",
       "    }\n",
       "</style>\n",
       "<table border=\"1\" class=\"dataframe\">\n",
       "  <thead>\n",
       "    <tr style=\"text-align: right;\">\n",
       "      <th></th>\n",
       "      <th>open</th>\n",
       "      <th>high</th>\n",
       "      <th>low</th>\n",
       "      <th>close</th>\n",
       "      <th>close_shift1</th>\n",
       "      <th>diff</th>\n",
       "    </tr>\n",
       "  </thead>\n",
       "  <tbody>\n",
       "    <tr>\n",
       "      <th>2022-08-21 09:00:00</th>\n",
       "      <td>29350000.0</td>\n",
       "      <td>29760000.0</td>\n",
       "      <td>29016000.0</td>\n",
       "      <td>29459000.0</td>\n",
       "      <td>NaN</td>\n",
       "      <td>NaN</td>\n",
       "    </tr>\n",
       "    <tr>\n",
       "      <th>2022-08-22 09:00:00</th>\n",
       "      <td>29458000.0</td>\n",
       "      <td>29554000.0</td>\n",
       "      <td>28857000.0</td>\n",
       "      <td>29260000.0</td>\n",
       "      <td>29459000.0</td>\n",
       "      <td>-199000.0</td>\n",
       "    </tr>\n",
       "    <tr>\n",
       "      <th>2022-08-23 09:00:00</th>\n",
       "      <td>29261000.0</td>\n",
       "      <td>29528000.0</td>\n",
       "      <td>28701000.0</td>\n",
       "      <td>29307000.0</td>\n",
       "      <td>29260000.0</td>\n",
       "      <td>47000.0</td>\n",
       "    </tr>\n",
       "    <tr>\n",
       "      <th>2022-08-24 09:00:00</th>\n",
       "      <td>29287000.0</td>\n",
       "      <td>29695000.0</td>\n",
       "      <td>28950000.0</td>\n",
       "      <td>29104000.0</td>\n",
       "      <td>29307000.0</td>\n",
       "      <td>-203000.0</td>\n",
       "    </tr>\n",
       "    <tr>\n",
       "      <th>2022-08-25 09:00:00</th>\n",
       "      <td>29103000.0</td>\n",
       "      <td>29500000.0</td>\n",
       "      <td>29036000.0</td>\n",
       "      <td>29300000.0</td>\n",
       "      <td>29104000.0</td>\n",
       "      <td>196000.0</td>\n",
       "    </tr>\n",
       "    <tr>\n",
       "      <th>...</th>\n",
       "      <td>...</td>\n",
       "      <td>...</td>\n",
       "      <td>...</td>\n",
       "      <td>...</td>\n",
       "      <td>...</td>\n",
       "      <td>...</td>\n",
       "    </tr>\n",
       "    <tr>\n",
       "      <th>2023-03-04 09:00:00</th>\n",
       "      <td>29710000.0</td>\n",
       "      <td>29907000.0</td>\n",
       "      <td>29638000.0</td>\n",
       "      <td>29838000.0</td>\n",
       "      <td>29709000.0</td>\n",
       "      <td>129000.0</td>\n",
       "    </tr>\n",
       "    <tr>\n",
       "      <th>2023-03-05 09:00:00</th>\n",
       "      <td>29837000.0</td>\n",
       "      <td>30097000.0</td>\n",
       "      <td>29650000.0</td>\n",
       "      <td>29982000.0</td>\n",
       "      <td>29838000.0</td>\n",
       "      <td>144000.0</td>\n",
       "    </tr>\n",
       "    <tr>\n",
       "      <th>2023-03-06 09:00:00</th>\n",
       "      <td>29982000.0</td>\n",
       "      <td>30066000.0</td>\n",
       "      <td>29638000.0</td>\n",
       "      <td>29769000.0</td>\n",
       "      <td>29982000.0</td>\n",
       "      <td>-213000.0</td>\n",
       "    </tr>\n",
       "    <tr>\n",
       "      <th>2023-03-07 09:00:00</th>\n",
       "      <td>29769000.0</td>\n",
       "      <td>29978000.0</td>\n",
       "      <td>29250000.0</td>\n",
       "      <td>29579000.0</td>\n",
       "      <td>29769000.0</td>\n",
       "      <td>-190000.0</td>\n",
       "    </tr>\n",
       "    <tr>\n",
       "      <th>2023-03-08 09:00:00</th>\n",
       "      <td>29579000.0</td>\n",
       "      <td>29660000.0</td>\n",
       "      <td>29434000.0</td>\n",
       "      <td>29447000.0</td>\n",
       "      <td>29579000.0</td>\n",
       "      <td>-132000.0</td>\n",
       "    </tr>\n",
       "  </tbody>\n",
       "</table>\n",
       "<p>200 rows × 6 columns</p>\n",
       "</div>"
      ],
      "text/plain": [
       "                           open        high         low       close  \\\n",
       "2022-08-21 09:00:00  29350000.0  29760000.0  29016000.0  29459000.0   \n",
       "2022-08-22 09:00:00  29458000.0  29554000.0  28857000.0  29260000.0   \n",
       "2022-08-23 09:00:00  29261000.0  29528000.0  28701000.0  29307000.0   \n",
       "2022-08-24 09:00:00  29287000.0  29695000.0  28950000.0  29104000.0   \n",
       "2022-08-25 09:00:00  29103000.0  29500000.0  29036000.0  29300000.0   \n",
       "...                         ...         ...         ...         ...   \n",
       "2023-03-04 09:00:00  29710000.0  29907000.0  29638000.0  29838000.0   \n",
       "2023-03-05 09:00:00  29837000.0  30097000.0  29650000.0  29982000.0   \n",
       "2023-03-06 09:00:00  29982000.0  30066000.0  29638000.0  29769000.0   \n",
       "2023-03-07 09:00:00  29769000.0  29978000.0  29250000.0  29579000.0   \n",
       "2023-03-08 09:00:00  29579000.0  29660000.0  29434000.0  29447000.0   \n",
       "\n",
       "                     close_shift1      diff  \n",
       "2022-08-21 09:00:00           NaN       NaN  \n",
       "2022-08-22 09:00:00    29459000.0 -199000.0  \n",
       "2022-08-23 09:00:00    29260000.0   47000.0  \n",
       "2022-08-24 09:00:00    29307000.0 -203000.0  \n",
       "2022-08-25 09:00:00    29104000.0  196000.0  \n",
       "...                           ...       ...  \n",
       "2023-03-04 09:00:00    29709000.0  129000.0  \n",
       "2023-03-05 09:00:00    29838000.0  144000.0  \n",
       "2023-03-06 09:00:00    29982000.0 -213000.0  \n",
       "2023-03-07 09:00:00    29769000.0 -190000.0  \n",
       "2023-03-08 09:00:00    29579000.0 -132000.0  \n",
       "\n",
       "[200 rows x 6 columns]"
      ]
     },
     "execution_count": 248,
     "metadata": {},
     "output_type": "execute_result"
    }
   ],
   "source": [
    "df"
   ]
  },
  {
   "cell_type": "code",
   "execution_count": null,
   "id": "3899f160",
   "metadata": {},
   "outputs": [],
   "source": [
    " "
   ]
  }
 ],
 "metadata": {
  "kernelspec": {
   "display_name": "Python 3 (ipykernel)",
   "language": "python",
   "name": "python3"
  },
  "language_info": {
   "codemirror_mode": {
    "name": "ipython",
    "version": 3
   },
   "file_extension": ".py",
   "mimetype": "text/x-python",
   "name": "python",
   "nbconvert_exporter": "python",
   "pygments_lexer": "ipython3",
   "version": "3.9.13"
  }
 },
 "nbformat": 4,
 "nbformat_minor": 5
}
