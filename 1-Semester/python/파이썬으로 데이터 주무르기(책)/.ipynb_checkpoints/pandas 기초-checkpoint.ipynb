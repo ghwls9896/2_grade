{
 "cells": [
  {
   "cell_type": "markdown",
   "id": "a4417402",
   "metadata": {},
   "source": [
    "## Series 클래스"
   ]
  },
  {
   "cell_type": "code",
   "execution_count": 43,
   "id": "f7b9ce29",
   "metadata": {},
   "outputs": [],
   "source": [
    "import pandas as pd"
   ]
  },
  {
   "cell_type": "code",
   "execution_count": 44,
   "id": "8bb2cf01",
   "metadata": {},
   "outputs": [],
   "source": [
    "data = [1,2,3,4]\n",
    "index = ['월', '화', '수', '목']"
   ]
  },
  {
   "cell_type": "code",
   "execution_count": 45,
   "id": "72792236",
   "metadata": {},
   "outputs": [],
   "source": [
    "s = pd.Series(data, index)"
   ]
  },
  {
   "cell_type": "code",
   "execution_count": 46,
   "id": "a9af824c",
   "metadata": {},
   "outputs": [
    {
     "data": {
      "text/plain": [
       "월    1\n",
       "화    2\n",
       "수    3\n",
       "목    4\n",
       "dtype: int64"
      ]
     },
     "execution_count": 46,
     "metadata": {},
     "output_type": "execute_result"
    }
   ],
   "source": [
    "s"
   ]
  },
  {
   "cell_type": "markdown",
   "id": "1780d766",
   "metadata": {},
   "source": [
    "### Series  =>> index , values"
   ]
  },
  {
   "cell_type": "code",
   "execution_count": 47,
   "id": "a4e35fff",
   "metadata": {},
   "outputs": [
    {
     "data": {
      "text/plain": [
       "Index(['월', '화', '수', '목'], dtype='object')"
      ]
     },
     "execution_count": 47,
     "metadata": {},
     "output_type": "execute_result"
    }
   ],
   "source": [
    "s.index"
   ]
  },
  {
   "cell_type": "code",
   "execution_count": 48,
   "id": "2f501d40",
   "metadata": {},
   "outputs": [
    {
     "data": {
      "text/plain": [
       "array([1, 2, 3, 4], dtype=int64)"
      ]
     },
     "execution_count": 48,
     "metadata": {},
     "output_type": "execute_result"
    }
   ],
   "source": [
    "s.values"
   ]
  },
  {
   "cell_type": "code",
   "execution_count": 49,
   "id": "8fa3fa2b",
   "metadata": {},
   "outputs": [
    {
     "data": {
      "text/plain": [
       "<PandasArray>\n",
       "[1, 2, 3, 4]\n",
       "Length: 4, dtype: int64"
      ]
     },
     "execution_count": 49,
     "metadata": {},
     "output_type": "execute_result"
    }
   ],
   "source": [
    "s.array"
   ]
  },
  {
   "cell_type": "markdown",
   "id": "7b9ce435",
   "metadata": {},
   "source": [
    "### 연습문제"
   ]
  },
  {
   "cell_type": "code",
   "execution_count": 50,
   "id": "7bc4c799",
   "metadata": {},
   "outputs": [],
   "source": [
    "data = [500, 800, 200]\n",
    "index = ['메로나', '누가바', '빠삐코']"
   ]
  },
  {
   "cell_type": "code",
   "execution_count": 51,
   "id": "9b380a64",
   "metadata": {},
   "outputs": [],
   "source": [
    "s = pd.Series(data, index)"
   ]
  },
  {
   "cell_type": "code",
   "execution_count": 52,
   "id": "c46b6445",
   "metadata": {},
   "outputs": [
    {
     "data": {
      "text/plain": [
       "메로나    500\n",
       "누가바    800\n",
       "빠삐코    200\n",
       "dtype: int64"
      ]
     },
     "execution_count": 52,
     "metadata": {},
     "output_type": "execute_result"
    }
   ],
   "source": [
    "s"
   ]
  },
  {
   "cell_type": "code",
   "execution_count": 53,
   "id": "c83de3ab",
   "metadata": {},
   "outputs": [
    {
     "data": {
      "text/plain": [
       "Index(['메로나', '누가바', '빠삐코'], dtype='object')"
      ]
     },
     "execution_count": 53,
     "metadata": {},
     "output_type": "execute_result"
    }
   ],
   "source": [
    "s.index"
   ]
  },
  {
   "cell_type": "code",
   "execution_count": 54,
   "id": "72ce7ccb",
   "metadata": {},
   "outputs": [
    {
     "data": {
      "text/plain": [
       "array([500, 800, 200], dtype=int64)"
      ]
     },
     "execution_count": 54,
     "metadata": {},
     "output_type": "execute_result"
    }
   ],
   "source": [
    "s.values"
   ]
  },
  {
   "cell_type": "markdown",
   "id": "6ddbd461",
   "metadata": {},
   "source": [
    "### Series 인덱싱 / iloc 속성(변수)를 사용하여 인덱싱"
   ]
  },
  {
   "cell_type": "code",
   "execution_count": 55,
   "id": "8b2e59cb",
   "metadata": {},
   "outputs": [
    {
     "data": {
      "text/plain": [
       "메로나    500\n",
       "누가바    800\n",
       "빠삐코    200\n",
       "dtype: int64"
      ]
     },
     "execution_count": 55,
     "metadata": {},
     "output_type": "execute_result"
    }
   ],
   "source": [
    "s"
   ]
  },
  {
   "cell_type": "code",
   "execution_count": 56,
   "id": "883faa92",
   "metadata": {},
   "outputs": [
    {
     "name": "stdout",
     "output_type": "stream",
     "text": [
      "500\n",
      "800\n",
      "200\n",
      "******************\n",
      "500\n",
      "800\n",
      "200\n"
     ]
    }
   ],
   "source": [
    "print(s.iloc[0])\n",
    "print(s.iloc[1])   #iloc  =>>>>>>>>> int location (정수의 위치(인덱스 번호라는 뜻))\n",
    "print(s.iloc[2])\n",
    "print('******************')\n",
    "print(s.loc['메로나'])\n",
    "print(s.loc['누가바'])\n",
    "print(s.loc['빠삐코'])"
   ]
  },
  {
   "cell_type": "markdown",
   "id": "0855029f",
   "metadata": {},
   "source": [
    "### iloc, loc 인덱싱 차이"
   ]
  },
  {
   "cell_type": "code",
   "execution_count": 57,
   "id": "49a9c804",
   "metadata": {},
   "outputs": [
    {
     "data": {
      "text/plain": [
       "메로나    500\n",
       "dtype: int64"
      ]
     },
     "execution_count": 57,
     "metadata": {},
     "output_type": "execute_result"
    }
   ],
   "source": [
    "s.iloc[0:1]"
   ]
  },
  {
   "cell_type": "code",
   "execution_count": 58,
   "id": "80d4a8c6",
   "metadata": {},
   "outputs": [
    {
     "data": {
      "text/plain": [
       "메로나    500\n",
       "누가바    800\n",
       "dtype: int64"
      ]
     },
     "execution_count": 58,
     "metadata": {},
     "output_type": "execute_result"
    }
   ],
   "source": [
    "s.loc['메로나':'누가바']   #인덱스는 끝에 있는 행을 포함함"
   ]
  },
  {
   "cell_type": "markdown",
   "id": "582ace49",
   "metadata": {},
   "source": [
    "### 연속하지 않는 여러 개의 값을 한번에 인덱싱 target"
   ]
  },
  {
   "cell_type": "code",
   "execution_count": 42,
   "id": "ae56ff32",
   "metadata": {},
   "outputs": [
    {
     "data": {
      "text/plain": [
       "메로나    500\n",
       "빠삐코    200\n",
       "dtype: int64"
      ]
     },
     "execution_count": 42,
     "metadata": {},
     "output_type": "execute_result"
    }
   ],
   "source": [
    "target = [0,2]\n",
    "s.iloc[target]"
   ]
  },
  {
   "cell_type": "markdown",
   "id": "2beb8c21",
   "metadata": {},
   "source": [
    "### 판다스 시리즈 값추가/ 삭제/ 수정"
   ]
  },
  {
   "cell_type": "code",
   "execution_count": 61,
   "id": "537bcf48",
   "metadata": {},
   "outputs": [],
   "source": [
    "s.loc['보석바'] = 640"
   ]
  },
  {
   "cell_type": "code",
   "execution_count": 62,
   "id": "a1a6ba5f",
   "metadata": {},
   "outputs": [
    {
     "data": {
      "text/plain": [
       "메로나    500\n",
       "누가바    800\n",
       "빠삐코    200\n",
       "보석바    640\n",
       "dtype: int64"
      ]
     },
     "execution_count": 62,
     "metadata": {},
     "output_type": "execute_result"
    }
   ],
   "source": [
    "s"
   ]
  },
  {
   "cell_type": "code",
   "execution_count": 63,
   "id": "d7d2f9bc",
   "metadata": {},
   "outputs": [
    {
     "name": "stdout",
     "output_type": "stream",
     "text": [
      "*************\n"
     ]
    }
   ],
   "source": [
    "print(\"*************\")"
   ]
  },
  {
   "cell_type": "code",
   "execution_count": 66,
   "id": "587ab3e3",
   "metadata": {},
   "outputs": [],
   "source": [
    "a1 = s.drop(\"보석바\")"
   ]
  },
  {
   "cell_type": "code",
   "execution_count": 67,
   "id": "a21d09f3",
   "metadata": {},
   "outputs": [
    {
     "data": {
      "text/plain": [
       "메로나    500\n",
       "누가바    800\n",
       "빠삐코    200\n",
       "dtype: int64"
      ]
     },
     "execution_count": 67,
     "metadata": {},
     "output_type": "execute_result"
    }
   ],
   "source": [
    "a1   ##삭제된 데이터"
   ]
  },
  {
   "cell_type": "code",
   "execution_count": 68,
   "id": "655c3591",
   "metadata": {},
   "outputs": [
    {
     "data": {
      "text/plain": [
       "메로나    500\n",
       "누가바    800\n",
       "빠삐코    200\n",
       "보석바    640\n",
       "dtype: int64"
      ]
     },
     "execution_count": 68,
     "metadata": {},
     "output_type": "execute_result"
    }
   ],
   "source": [
    "s  ##원본파일"
   ]
  },
  {
   "cell_type": "code",
   "execution_count": 69,
   "id": "6e4244f3",
   "metadata": {},
   "outputs": [
    {
     "name": "stdout",
     "output_type": "stream",
     "text": [
      "*************\n"
     ]
    }
   ],
   "source": [
    "print(\"*************\")"
   ]
  },
  {
   "cell_type": "code",
   "execution_count": 70,
   "id": "7f61817d",
   "metadata": {},
   "outputs": [],
   "source": [
    "s.iloc[0] = 100  #수정값"
   ]
  },
  {
   "cell_type": "code",
   "execution_count": null,
   "id": "fc678e53",
   "metadata": {},
   "outputs": [],
   "source": []
  },
  {
   "cell_type": "code",
   "execution_count": null,
   "id": "854b25a7",
   "metadata": {},
   "outputs": [],
   "source": []
  }
 ],
 "metadata": {
  "kernelspec": {
   "display_name": "Python 3 (ipykernel)",
   "language": "python",
   "name": "python3"
  },
  "language_info": {
   "codemirror_mode": {
    "name": "ipython",
    "version": 3
   },
   "file_extension": ".py",
   "mimetype": "text/x-python",
   "name": "python",
   "nbconvert_exporter": "python",
   "pygments_lexer": "ipython3",
   "version": "3.9.13"
  }
 },
 "nbformat": 4,
 "nbformat_minor": 5
}
